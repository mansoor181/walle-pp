{
 "cells": [
  {
   "cell_type": "code",
   "execution_count": 1,
   "id": "719f1360",
   "metadata": {},
   "outputs": [
    {
     "data": {
      "text/html": [
       "<div>\n",
       "<style scoped>\n",
       "    .dataframe tbody tr th:only-of-type {\n",
       "        vertical-align: middle;\n",
       "    }\n",
       "\n",
       "    .dataframe tbody tr th {\n",
       "        vertical-align: top;\n",
       "    }\n",
       "\n",
       "    .dataframe thead th {\n",
       "        text-align: right;\n",
       "    }\n",
       "</style>\n",
       "<table border=\"1\" class=\"dataframe\">\n",
       "  <thead>\n",
       "    <tr style=\"text-align: right;\">\n",
       "      <th></th>\n",
       "      <th>PDB</th>\n",
       "      <th>Epitope</th>\n",
       "    </tr>\n",
       "  </thead>\n",
       "  <tbody>\n",
       "    <tr>\n",
       "      <th>0</th>\n",
       "      <td>1YBW</td>\n",
       "      <td>A:LEU:487, A:ILE:483, A:HIS:496, A:ASP:639, A:...</td>\n",
       "    </tr>\n",
       "    <tr>\n",
       "      <th>1</th>\n",
       "      <td>5X59</td>\n",
       "      <td>A:VAL:26, A:LYS:27, A:LYS:543, A:ARG:190, A:GL...</td>\n",
       "    </tr>\n",
       "    <tr>\n",
       "      <th>2</th>\n",
       "      <td>3PMT</td>\n",
       "      <td>A:TRP:567, A:LYS:590, A:GLU:598, A:TYR:597, A:...</td>\n",
       "    </tr>\n",
       "    <tr>\n",
       "      <th>3</th>\n",
       "      <td>3IT8</td>\n",
       "      <td>C:GLU:23, C:PRO:139, B:GLU:23, B:GLN:67, B:GLU...</td>\n",
       "    </tr>\n",
       "    <tr>\n",
       "      <th>4</th>\n",
       "      <td>4O38</td>\n",
       "      <td>B:GLU:56, B:ASN:183, B:SER:62, B:GLU:124, B:GL...</td>\n",
       "    </tr>\n",
       "  </tbody>\n",
       "</table>\n",
       "</div>"
      ],
      "text/plain": [
       "    PDB                                            Epitope\n",
       "0  1YBW  A:LEU:487, A:ILE:483, A:HIS:496, A:ASP:639, A:...\n",
       "1  5X59  A:VAL:26, A:LYS:27, A:LYS:543, A:ARG:190, A:GL...\n",
       "2  3PMT  A:TRP:567, A:LYS:590, A:GLU:598, A:TYR:597, A:...\n",
       "3  3IT8  C:GLU:23, C:PRO:139, B:GLU:23, B:GLN:67, B:GLU...\n",
       "4  4O38  B:GLU:56, B:ASN:183, B:SER:62, B:GLU:124, B:GL..."
      ]
     },
     "execution_count": 1,
     "metadata": {},
     "output_type": "execute_result"
    }
   ],
   "source": [
    "import pandas as pd\n",
    "\n",
    "df_train = pd.read_csv(\"epitope3d_dataset_180_Train.csv\")\n",
    "\n",
    "# use the subset of df_train as example\n",
    "df_example = df_train[:5]\n",
    "df_example"
   ]
  },
  {
   "cell_type": "code",
   "execution_count": null,
   "id": "2e017af2",
   "metadata": {},
   "outputs": [],
   "source": [
    "# For ESM_IF1 generation, removing heteroatom is necessary\n",
    "# But not necessary for examples PDB; already processed \n",
    "# reference from https://stackoverflow.com/questions/25718201/remove-heteroatoms-from-pdb\n",
    "\n",
    "class NonHetSelect(Select):\n",
    "    def accept_residue(self, residue):\n",
    "        return 1 if residue.id[0] == \" \" else 0"
   ]
  },
  {
   "cell_type": "code",
   "execution_count": 2,
   "id": "68616479",
   "metadata": {},
   "outputs": [],
   "source": [
    "# calculate the euclidean distance between two nodes (Ca coordinates)\n",
    "def euclidean_dist(x, y):\n",
    "    return ((x[:, None] - y) ** 2).sum(-1).sqrt()\n",
    "\n",
    "# based on the distance, generate edge connection for distance within threshold\n",
    "def edge_connection(coord_list, threshold):\n",
    "    # Compute pairwise euclidean distances\n",
    "    distances = euclidean_dist(coord_list, coord_list)\n",
    "    \n",
    "    # to avoid self-connection, make the distance 0 between self nodes into infinity\n",
    "    distances.fill_diagonal_(float(\"inf\"))\n",
    "\n",
    "    # edges are constructed within threshold \n",
    "    edges = (distances < threshold).nonzero(as_tuple=False).t()\n",
    "    \n",
    "    return edges"
   ]
  },
  {
   "cell_type": "code",
   "execution_count": 3,
   "id": "2941d81b",
   "metadata": {},
   "outputs": [],
   "source": [
    "from esm_embedding import esm_if_2_embedding\n",
    "from Bio.PDB.DSSP import dssp_dict_from_pdb_file, residue_max_acc\n",
    "from torch_geometric.data import Data\n",
    "import torch\n",
    "\n",
    "import warnings\n",
    "warnings.filterwarnings('ignore')\n",
    "\n",
    "def generate_graph(df, path, distance_threshold, RSA_threshold):    \n",
    "    \n",
    "\n",
    "       # iterate the pdbs\n",
    "    pyg_data_list = []\n",
    "    for idx, row in df.iterrows():\n",
    "        pdb_id = row[\"PDB\"]\n",
    "        print(\"PDB is :\", pdb_id)\n",
    "        # get the list of epitopes \n",
    "        epitope_list = row[\"Epitope\"].split(\", \")\n",
    "        \n",
    "        \n",
    "        esm_if_rep, esm2_rep, node_list, coord_list = esm_if_2_embedding(pdb_id, path)\n",
    "        \n",
    "        \n",
    "        esm_node_features = torch.concat((esm_if_rep, esm2_rep), dim=1)\n",
    "        \n",
    "        # iterate per-chain node_list into whole-chain node_list\n",
    "        node_all_list = []\n",
    "        for chain_node in node_list:\n",
    "            for node in chain_node:\n",
    "                node_all_list.append(node)\n",
    "                \n",
    "        # iterate per-chain coord_list into whole-chain coord_list           \n",
    "        coord_all_list = []\n",
    "        for chain_coord in coord_list:\n",
    "            for coord in chain_coord:\n",
    "                coord_all_list.append(coord)\n",
    "        \n",
    "        coord_all_list = torch.tensor(coord_all_list)\n",
    "        \n",
    "        # generate the edge connection within 10 Angstrome distance (while removing self-connection)\n",
    "        edges = edge_connection(coord_all_list, threshold=distance_threshold)\n",
    "        \n",
    "        # generate the label for each node based on the epitope annotation\n",
    "        y_list = list()\n",
    "        for node in node_all_list:\n",
    "            if node in epitope_list:\n",
    "                y_list.append(int(1))\n",
    "            else:\n",
    "                y_list.append(int(0))\n",
    "        \n",
    "        y_list = torch.tensor(y_list)\n",
    "        \n",
    "        # generate rsa feature by extracting dssp from pdb file\n",
    "        dssp = dssp_dict_from_pdb_file(f\"{path}/{pdb_id}.pdb\")\n",
    "        \n",
    "        rsa_list = []\n",
    "        for node in node_all_list:\n",
    "            chain, res_name, res_id = node.split(\":\")\n",
    "            try:\n",
    "                # indexing the dssp such as ('A', (' ', 53, ' '))\n",
    "                key = (chain, (' ', int(res_id), ' '))\n",
    "                \n",
    "                # generate rsa va;ie by normalizing asa by residue_max_acc -> \n",
    "                rsa = dssp[0][key][2] / residue_max_acc[\"Sander\"][res_name] \n",
    "                rsa_list.append(rsa)\n",
    "            except:\n",
    "                rsa_list.append(0)\n",
    "                print(\"Key Error... appending rsa: 0\")\n",
    "        \n",
    "        # The surface residues were selected with RSA cutoff 10%\n",
    "        # surface residues can be chosen by indexing as [data.train_mask]\n",
    "        \n",
    "        train_mask = torch.tensor([rsa >=  RSA_threshold for rsa in rsa_list])\n",
    "            \n",
    "        data = Data(coords=coord_all_list, node_id=node_all_list, node_attrs=esm_node_features, edge_index=edges.contiguous(), y=y_list,\n",
    "                 num_nodes=len(node_all_list), name=pdb_id, train_mask=train_mask, rsa=rsa_list)\n",
    "        \n",
    "        pyg_data_list.append(data)\n",
    "        \n",
    "    return pyg_data_list\n",
    "\n"
   ]
  },
  {
   "cell_type": "code",
   "execution_count": 4,
   "id": "dcda8593",
   "metadata": {},
   "outputs": [
    {
     "name": "stdout",
     "output_type": "stream",
     "text": [
      "PDB is : 1YBW\n"
     ]
    },
    {
     "name": "stderr",
     "output_type": "stream",
     "text": [
      "Using cache found in /home/sjchoi/.cache/torch/hub/facebookresearch_esm_main\n"
     ]
    },
    {
     "name": "stdout",
     "output_type": "stream",
     "text": [
      "PDB is : 5X59\n"
     ]
    },
    {
     "name": "stderr",
     "output_type": "stream",
     "text": [
      "Using cache found in /home/sjchoi/.cache/torch/hub/facebookresearch_esm_main\n"
     ]
    },
    {
     "name": "stdout",
     "output_type": "stream",
     "text": [
      "Key Error... appending rsa: 0\n",
      "PDB is : 3PMT\n"
     ]
    },
    {
     "name": "stderr",
     "output_type": "stream",
     "text": [
      "Using cache found in /home/sjchoi/.cache/torch/hub/facebookresearch_esm_main\n"
     ]
    },
    {
     "name": "stdout",
     "output_type": "stream",
     "text": [
      "PDB is : 3IT8\n"
     ]
    },
    {
     "name": "stderr",
     "output_type": "stream",
     "text": [
      "Using cache found in /home/sjchoi/.cache/torch/hub/facebookresearch_esm_main\n",
      "Using cache found in /home/sjchoi/.cache/torch/hub/facebookresearch_esm_main\n",
      "Using cache found in /home/sjchoi/.cache/torch/hub/facebookresearch_esm_main\n"
     ]
    },
    {
     "name": "stdout",
     "output_type": "stream",
     "text": [
      "PDB is : 4O38\n"
     ]
    },
    {
     "name": "stderr",
     "output_type": "stream",
     "text": [
      "Using cache found in /home/sjchoi/.cache/torch/hub/facebookresearch_esm_main\n"
     ]
    }
   ],
   "source": [
    "# using cache line comes for each protein chain \n",
    "\n",
    "example_pyg_list = generate_graph(df_example, path=\"Example_PDB\", distance_threshold=10, RSA_threshold=0.15)"
   ]
  },
  {
   "cell_type": "code",
   "execution_count": 5,
   "id": "e6e7bb21",
   "metadata": {},
   "outputs": [
    {
     "data": {
      "text/plain": [
       "Data(edge_index=[2, 4866], y=[246], coords=[246, 3], node_id=[246], node_attrs=[246, 1792], num_nodes=246, name='1YBW', train_mask=[246], rsa=[246])"
      ]
     },
     "execution_count": 5,
     "metadata": {},
     "output_type": "execute_result"
    }
   ],
   "source": [
    "example_pyg_list[0]"
   ]
  }
 ],
 "metadata": {
  "kernelspec": {
   "display_name": "Python 3",
   "language": "python",
   "name": "python3"
  },
  "language_info": {
   "codemirror_mode": {
    "name": "ipython",
    "version": 3
   },
   "file_extension": ".py",
   "mimetype": "text/x-python",
   "name": "python",
   "nbconvert_exporter": "python",
   "pygments_lexer": "ipython3",
   "version": "3.10.16"
  }
 },
 "nbformat": 4,
 "nbformat_minor": 5
}
