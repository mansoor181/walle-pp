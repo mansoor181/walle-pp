{
 "cells": [
  {
   "cell_type": "code",
   "execution_count": 59,
   "metadata": {},
   "outputs": [],
   "source": [
    "import sys, os\n",
    "sys.path.append(os.path.abspath(os.path.join(os.getcwd(), '..')))\n",
    "\n",
    "import numpy as np\n",
    "import pandas as pd\n",
    "import torch, re\n",
    "import seaborn as sns\n",
    "from scipy.stats import norm\n",
    "import matplotlib.pyplot as plt\n",
    "\n",
    "# from asep.model.utils import generate_random_seed, seed_everything\n"
   ]
  },
  {
   "cell_type": "code",
   "execution_count": 60,
   "metadata": {},
   "outputs": [
    {
     "data": {
      "text/plain": [
       "'P R T E I N X'"
      ]
     },
     "execution_count": 60,
     "metadata": {},
     "output_type": "execute_result"
    }
   ],
   "source": [
    "sequence_examples = \"PRTEINO\"\n",
    "sequence_examples = [sequence_examples]\n",
    "# replace all rare/ambiguous amino acids by X and introduce white-space between all amino acids\n",
    "sequence_examples = [\" \".join(list(re.sub(r\"[UZOB]\", \"X\", sequence))) for sequence in sequence_examples]\n",
    "\n",
    "sequence_examples[0]"
   ]
  },
  {
   "cell_type": "code",
   "execution_count": 132,
   "metadata": {},
   "outputs": [
    {
     "name": "stderr",
     "output_type": "stream",
     "text": [
      "/var/folders/kj/vbx4s2zd1v1ff2bc0p2tvy6r0000gn/T/ipykernel_85091/2950123140.py:13: FutureWarning: You are using `torch.load` with `weights_only=False` (the current default value), which uses the default pickle module implicitly. It is possible to construct malicious pickle data which will execute arbitrary code during unpickling (See https://github.com/pytorch/pytorch/blob/main/SECURITY.md#untrusted-models for more details). In a future release, the default value for `weights_only` will be flipped to `True`. This limits the functions that could be executed during unpickling. Arbitrary objects will no longer be allowed to be loaded via this mode unless they are explicitly allowlisted by the user via `torch.serialization.add_safe_globals`. We recommend you start setting `weights_only=True` for any use case where you don't have full control of the loaded file. Please open an issue on GitHub for any issues related to this experimental feature.\n",
      "  custom = torch.load(asep_data_dir + \"processed/\" + 'custom_emb.pt')\n"
     ]
    },
    {
     "data": {
      "text/plain": [
       "(PairData(x_b=[104311, 24], x_g=[495555, 24], edge_index_b=[2, 658426], edge_index_g=[2, 3819138], abdbid=[1723], edge_index_bg=[2, 75239], y_b=[104311], y_g=[495555]),\n",
       " {'x_b': tensor([     0,     55,    112,  ..., 104193, 104247, 104311]),\n",
       "  'x_g': tensor([     0,    171,    666,  ..., 495027, 495106, 495555]),\n",
       "  'edge_index_b': tensor([     0,    352,    714,  ..., 657712, 658042, 658426]),\n",
       "  'edge_index_g': tensor([      0,    1240,    4966,  ..., 3814990, 3815554, 3819138]),\n",
       "  'abdbid': tensor([   0,    1,    2,  ..., 1721, 1722, 1723]),\n",
       "  'edge_index_bg': tensor([    0,    43,    87,  ..., 75144, 75194, 75239]),\n",
       "  'y_b': tensor([     0,     55,    112,  ..., 104193, 104247, 104311]),\n",
       "  'y_g': tensor([     0,    171,    666,  ..., 495027, 495106, 495555])})"
      ]
     },
     "execution_count": 132,
     "metadata": {},
     "output_type": "execute_result"
    }
   ],
   "source": [
    "proj_dir = \"/Users/mansoor/Documents/GSU/Projects/Antibody-Design/epitope-prediction/\"\n",
    "dataset_dir = os.path.join(proj_dir, \"data/\")\n",
    "figures = os.path.join(proj_dir, \"figures/\")\n",
    "\n",
    "asep_data_dir = os.path.join(dataset_dir, \"asep/\")\n",
    "graphs_asep_path = asep_data_dir + \"asepv1_interim_graphs/\"\n",
    "structures_asep_path = asep_data_dir + \"structures/\"\n",
    "ids_asep = os.path.join(asep_data_dir, \"asepv1-AbDb-IDs.txt\")\n",
    "\n",
    "iedb_epi_file_path = dataset_dir + \"iedb/epitope_full_v3.csv\"\n",
    "iedb_ag_file_path = dataset_dir + \"iedb/antigen_full_v3.csv\"\n",
    "\n",
    "custom = torch.load(asep_data_dir + \"processed/\" + 'custom_emb.pt')\n",
    "\n",
    "custom"
   ]
  },
  {
   "cell_type": "code",
   "execution_count": 62,
   "metadata": {},
   "outputs": [],
   "source": [
    "proj_dir = \"/Users/mansoor/Documents/GSU/Projects/Antibody-Design/epitope-prediction/\"\n",
    "dataset_dir = os.path.join(proj_dir, \"data/\")\n",
    "\n",
    "asep_data_dir = os.path.join(dataset_dir, \"asep/\")\n",
    "graphs_asep_path = asep_data_dir + \"asepv1_interim_graphs/\"\n",
    "structures_asep_path = asep_data_dir + \"structures/\"\n",
    "ids_asep = os.path.join(asep_data_dir, \"asepv1-AbDb-IDs.txt\")\n",
    "\n",
    "iedb_epi_file_path = dataset_dir + \"iedb/epitope_full_v3.csv\"\n",
    "iedb_ag_file_path = dataset_dir + \"iedb/antigen_full_v3.csv\"\n"
   ]
  },
  {
   "cell_type": "code",
   "execution_count": 63,
   "metadata": {},
   "outputs": [
    {
     "name": "stderr",
     "output_type": "stream",
     "text": [
      "/var/folders/kj/vbx4s2zd1v1ff2bc0p2tvy6r0000gn/T/ipykernel_85091/1856540925.py:2: FutureWarning: You are using `torch.load` with `weights_only=False` (the current default value), which uses the default pickle module implicitly. It is possible to construct malicious pickle data which will execute arbitrary code during unpickling (See https://github.com/pytorch/pytorch/blob/main/SECURITY.md#untrusted-models for more details). In a future release, the default value for `weights_only` will be flipped to `True`. This limits the functions that could be executed during unpickling. Arbitrary objects will no longer be allowed to be loaded via this mode unless they are explicitly allowlisted by the user via `torch.serialization.add_safe_globals`. We recommend you start setting `weights_only=True` for any use case where you don't have full control of the loaded file. Please open an issue on GitHub for any issues related to this experimental feature.\n",
      "  data = torch.load(graphs_asep_path + '1a14_0P.pt')\n"
     ]
    },
    {
     "data": {
      "text/plain": [
       "{'abdbid': '1a14_0P',\n",
       " 'seqres': {'ab': OrderedDict([('H',\n",
       "                'QVQLQQSGAELVKPGASVRMSCKASGYTFTNYNMYWVKQSPGQGLEWIGIFYPGNGDTSYNQKFKDKATLTADKSSNTAYMQLSSLTSEDSAVYYCARSGGSYRYDGGFDYWGQGTTVTV'),\n",
       "               ('L',\n",
       "                'DIELTQTTSSLSASLGDRVTISCRASQDISNYLNWYQQNPDGTVKLLIYYTSNLHSEVPSRFSGSGSGTDYSLTISNLEQEDIATYFCQQDFTLPFTFGGGTAA')]),\n",
       "  'ag': {'N': 'RDFNNLTKGLCTINSWHIYGKDNAVRIGEDSDVLVTREPYVSCDPDECRFYALSQGTTIRGKHSNGTIHDRSQYRALISWPLSSPPTVYNSRVECIGWSSTSCHDGKTRMSICISGPNNNASAVIWYNRRPVTEINTWARNILRTQESECVCHNGVCPVVFTDGSATGPAETRIYYFKEGKILKWEPLAGTAKHIEECSCYGERAEITCTCRDNWQGSNRPVIRIDPVAMTHTSQYICSPVLTDNPRPNDPTVGKCNDPYPGNNNNGVKGFSYLDGVNTWLGRTISIASRSGYEMLKVPNALTDDKSKPTQGQTIVLNTDWSGYSGSFMDYWAEGECYRACFYVELIRGRPKEDKVWWTSNSIVSMCSSTEFLGQWDWPDGAKIEYFL'}},\n",
       " 'mapping': {'ab': {'seqres2cdr': array([0, 0, 0, 0, 0, 0, 0, 0, 0, 0, 0, 0, 0, 0, 0, 0, 0, 0, 0, 0, 0, 0,\n",
       "          0, 0, 0, 1, 1, 1, 1, 1, 1, 1, 1, 1, 1, 0, 0, 0, 0, 0, 0, 0, 0, 0,\n",
       "          0, 0, 0, 0, 0, 1, 1, 1, 1, 1, 1, 1, 1, 1, 1, 0, 0, 0, 0, 0, 0, 0,\n",
       "          0, 0, 0, 0, 0, 0, 0, 0, 0, 0, 0, 0, 0, 0, 0, 0, 0, 0, 0, 0, 0, 0,\n",
       "          0, 0, 0, 0, 0, 0, 0, 0, 0, 0, 1, 1, 1, 1, 1, 1, 1, 1, 1, 1, 1, 1,\n",
       "          1, 0, 0, 0, 0, 0, 0, 0, 0, 0, 0, 0, 0, 0, 0, 0, 0, 0, 0, 0, 0, 0,\n",
       "          0, 0, 0, 0, 0, 0, 0, 0, 0, 0, 0, 1, 1, 1, 1, 1, 1, 1, 1, 1, 1, 1,\n",
       "          0, 0, 0, 0, 0, 0, 0, 0, 0, 0, 0, 0, 0, 0, 0, 1, 1, 1, 1, 1, 1, 1,\n",
       "          0, 0, 0, 0, 0, 0, 0, 0, 0, 0, 0, 0, 0, 0, 0, 0, 0, 0, 0, 0, 0, 0,\n",
       "          0, 0, 0, 0, 0, 0, 0, 0, 0, 0, 1, 1, 1, 1, 1, 1, 1, 1, 1, 0, 0, 0,\n",
       "          0, 0, 0, 0])},\n",
       "  'ag': {'seqres2surf': array([1, 1, 1, 1, 1, 1, 1, 1, 1, 1, 1, 1, 1, 1, 1, 1, 1, 1, 1, 1, 1, 1,\n",
       "          1, 1, 1, 1, 1, 0, 1, 1, 1, 1, 1, 1, 0, 1, 1, 1, 0, 0, 1, 1, 1, 1,\n",
       "          1, 1, 1, 1, 1, 0, 0, 0, 0, 1, 1, 1, 1, 1, 1, 1, 1, 1, 1, 1, 1, 1,\n",
       "          1, 1, 1, 1, 1, 1, 1, 1, 1, 1, 0, 1, 0, 0, 1, 1, 1, 1, 1, 0, 1, 1,\n",
       "          1, 1, 1, 1, 1, 1, 1, 1, 1, 1, 0, 0, 0, 0, 1, 1, 1, 0, 1, 1, 1, 1,\n",
       "          1, 0, 0, 0, 1, 1, 1, 1, 1, 1, 0, 1, 0, 1, 0, 1, 1, 1, 1, 1, 1, 1,\n",
       "          1, 1, 1, 1, 1, 1, 1, 1, 1, 1, 0, 1, 1, 1, 1, 0, 1, 1, 1, 1, 1, 1,\n",
       "          0, 1, 1, 1, 0, 1, 0, 1, 0, 1, 1, 1, 1, 1, 1, 1, 1, 1, 1, 0, 1, 0,\n",
       "          1, 1, 1, 1, 1, 1, 1, 1, 1, 1, 1, 1, 1, 1, 1, 1, 1, 1, 0, 1, 1, 1,\n",
       "          0, 1, 0, 0, 1, 1, 1, 1, 1, 1, 0, 0, 0, 1, 0, 1, 1, 1, 1, 1, 1, 1,\n",
       "          0, 1, 0, 1, 1, 1, 1, 1, 1, 1, 1, 1, 1, 1, 1, 0, 1, 1, 1, 0, 1, 1,\n",
       "          1, 0, 1, 1, 1, 1, 1, 1, 1, 1, 1, 1, 1, 1, 1, 1, 1, 1, 1, 1, 1, 1,\n",
       "          1, 1, 0, 1, 0, 0, 0, 1, 0, 1, 1, 1, 1, 1, 1, 0, 1, 0, 1, 1, 1, 1,\n",
       "          1, 1, 1, 1, 1, 0, 1, 1, 0, 1, 1, 0, 1, 1, 0, 1, 1, 1, 1, 1, 1, 1,\n",
       "          1, 1, 1, 1, 1, 1, 0, 0, 1, 1, 1, 1, 1, 1, 1, 1, 1, 0, 1, 1, 1, 1,\n",
       "          1, 1, 1, 1, 1, 1, 1, 1, 1, 1, 1, 0, 1, 0, 0, 0, 1, 1, 1, 1, 1, 1,\n",
       "          1, 1, 1, 1, 1, 1, 1, 1, 1, 0, 0, 0, 0, 1, 1, 1, 1, 1, 1, 1, 1, 1,\n",
       "          1, 1, 1, 1, 1, 1, 1, 1, 1, 1, 1, 1, 1, 1]),\n",
       "   'seqres2epitope': array([0, 0, 0, 0, 0, 0, 0, 0, 0, 0, 0, 0, 0, 0, 0, 0, 0, 0, 0, 0, 0, 0,\n",
       "          0, 0, 0, 0, 0, 0, 0, 0, 0, 0, 0, 0, 0, 0, 0, 0, 0, 0, 0, 0, 0, 0,\n",
       "          0, 0, 0, 0, 0, 0, 0, 0, 0, 0, 0, 0, 0, 0, 0, 0, 0, 0, 0, 0, 0, 0,\n",
       "          0, 0, 0, 0, 0, 0, 0, 0, 0, 0, 0, 0, 0, 0, 0, 0, 0, 0, 0, 0, 0, 0,\n",
       "          0, 0, 0, 0, 0, 0, 0, 0, 0, 0, 0, 0, 0, 0, 0, 0, 0, 0, 0, 0, 0, 0,\n",
       "          0, 0, 0, 0, 0, 0, 0, 0, 0, 0, 0, 0, 0, 0, 0, 0, 0, 0, 0, 0, 0, 0,\n",
       "          0, 0, 0, 0, 0, 0, 0, 0, 0, 0, 0, 0, 0, 0, 0, 0, 0, 0, 0, 0, 0, 0,\n",
       "          0, 0, 0, 0, 0, 0, 0, 0, 0, 0, 0, 0, 0, 0, 0, 0, 0, 0, 0, 0, 0, 0,\n",
       "          0, 0, 0, 0, 0, 0, 0, 0, 0, 0, 0, 0, 0, 0, 0, 0, 0, 0, 0, 0, 0, 0,\n",
       "          0, 0, 0, 0, 0, 0, 0, 0, 0, 0, 0, 0, 0, 0, 0, 0, 0, 0, 0, 0, 0, 0,\n",
       "          0, 0, 0, 0, 0, 0, 0, 0, 0, 0, 0, 0, 0, 0, 0, 0, 0, 0, 0, 0, 0, 0,\n",
       "          0, 0, 0, 0, 0, 1, 1, 1, 1, 1, 0, 0, 0, 0, 0, 0, 0, 1, 1, 1, 1, 0,\n",
       "          0, 0, 0, 0, 0, 0, 0, 0, 0, 0, 0, 0, 0, 0, 0, 0, 0, 0, 0, 0, 1, 1,\n",
       "          1, 1, 1, 0, 1, 0, 0, 0, 0, 0, 0, 0, 0, 0, 0, 0, 0, 0, 0, 0, 0, 0,\n",
       "          0, 0, 0, 0, 0, 0, 0, 0, 0, 1, 1, 1, 1, 0, 0, 0, 0, 0, 0, 0, 0, 0,\n",
       "          0, 0, 0, 0, 0, 0, 0, 0, 0, 0, 0, 0, 0, 0, 0, 0, 0, 0, 0, 0, 0, 1,\n",
       "          0, 0, 0, 0, 0, 0, 0, 0, 0, 0, 0, 0, 0, 0, 0, 0, 0, 0, 0, 0, 0, 0,\n",
       "          0, 0, 0, 0, 0, 0, 0, 0, 0, 0, 0, 0, 0, 0])}},\n",
       " 'embedding': {'ab': {'igfold': tensor([[-1.0399,  0.8704, -0.8608,  ..., -0.6498, -0.8094, -1.1807],\n",
       "           [-0.3633, -0.7151, -0.3709,  ...,  0.2797,  0.7048, -1.8234],\n",
       "           [-1.7666,  0.6667, -1.0148,  ..., -0.1468, -0.0720,  0.7058],\n",
       "           ...,\n",
       "           [ 0.0961,  0.0582,  0.2877,  ..., -1.4733, -1.5955, -0.1268],\n",
       "           [ 0.6668,  0.9970, -0.0531,  ..., -1.2293, -0.4893,  1.0265],\n",
       "           [ 0.4168, -0.4423, -0.4230,  ..., -1.3241, -1.5058,  0.1727]]),\n",
       "   'esm2': tensor([[-0.1389,  0.0946, -0.0205,  ..., -0.2107, -0.0520,  0.2371],\n",
       "           [-0.2513,  0.2416,  0.3241,  ..., -0.0842, -0.0924,  0.0170],\n",
       "           [-0.2048,  0.4315,  0.1440,  ..., -0.1274, -0.1466,  0.0419],\n",
       "           ...,\n",
       "           [ 0.0379, -0.0913,  0.2922,  ...,  0.1453, -0.1520, -0.0724],\n",
       "           [-0.0126, -0.0456,  0.2564,  ..., -0.2632, -0.3195, -0.0351],\n",
       "           [-0.1132, -0.0020,  0.1805,  ..., -0.4602, -0.3141, -0.0088]])},\n",
       "  'ag': {'esm2': tensor([[-3.8686e-01, -3.0338e-02, -2.8695e-01,  ..., -4.8196e-01,\n",
       "            -1.9350e-01,  3.9596e-01],\n",
       "           [-2.2245e-02, -4.8630e-02,  2.2981e-02,  ..., -1.6270e-01,\n",
       "            -3.1385e-01,  4.7299e-02],\n",
       "           [-4.7153e-05,  2.2743e-01,  1.5891e-01,  ..., -1.4885e-01,\n",
       "            -4.2330e-02, -6.1085e-02],\n",
       "           ...,\n",
       "           [ 2.1542e-01,  1.5485e-01,  1.6546e-01,  ..., -5.7342e-03,\n",
       "             8.6300e-02,  2.6774e-01],\n",
       "           [ 8.0652e-02,  1.8950e-01,  3.4881e-01,  ..., -1.8467e-01,\n",
       "             2.0878e-02, -7.7456e-02],\n",
       "           [-5.9451e-02,  9.8879e-02,  1.9795e-02,  ..., -4.4214e-01,\n",
       "             6.0120e-02,  4.4205e-02]])}},\n",
       " 'edges': {'ab': tensor(indices=tensor([[ 0,  1,  1,  1,  1,  1,  2,  2,  2,  2,  2,  3,  3,  3,\n",
       "                           3,  3,  3,  3,  4,  4,  4,  4,  4,  4,  4,  5,  5,  5,\n",
       "                           5,  5,  5,  5,  5,  6,  6,  6,  6,  6,  6,  6,  6,  6,\n",
       "                           6,  6,  6,  6,  6,  7,  7,  7,  7,  7,  7,  7,  7,  7,\n",
       "                           7,  7,  7,  8,  8,  8,  8,  8,  8,  8,  8,  8,  9,  9,\n",
       "                           9,  9,  9,  9,  9,  9,  9,  9,  9,  9,  9, 10, 10, 10,\n",
       "                          10, 10, 10, 10, 10, 10, 11, 11, 11, 11, 11, 11, 11, 11,\n",
       "                          11, 11, 12, 12, 12, 12, 12, 12, 12, 12, 12, 12, 12, 12,\n",
       "                          12, 12, 13, 13, 13, 13, 13, 13, 13, 13, 13, 14, 14, 14,\n",
       "                          14, 14, 14, 15, 15, 15, 15, 15, 16, 16, 16, 16, 16, 16,\n",
       "                          16, 17, 17, 17, 17, 17, 17, 17, 17, 18, 18, 18, 18, 18,\n",
       "                          18, 19, 19, 19, 19, 20, 20, 20, 20, 20, 20, 20, 20, 20,\n",
       "                          20, 21, 21, 21, 21, 21, 21, 21, 21, 21, 22, 22, 22, 22,\n",
       "                          22, 22, 22, 22, 22, 23, 23, 23, 23, 23, 23, 23, 23, 24,\n",
       "                          24, 24, 24, 24, 24, 24, 24, 25, 25, 25, 25, 25, 25, 25,\n",
       "                          25, 26, 26, 26, 26, 26, 26, 26, 26, 26, 26, 26, 27, 27,\n",
       "                          27, 27, 27, 27, 27, 27, 27, 27, 28, 28, 28, 28, 28, 28,\n",
       "                          28, 29, 29, 29, 29, 29, 29, 29, 29, 29, 29, 30, 30, 30,\n",
       "                          30, 30, 30, 30, 30, 31, 31, 31, 31, 31, 31, 31, 32, 32,\n",
       "                          32, 32, 33, 33, 34, 34, 34, 34, 35, 35, 35, 36, 36, 36,\n",
       "                          36, 37, 37, 37, 37, 38, 38, 38, 38, 38, 38, 38, 38, 38,\n",
       "                          39, 39, 39, 39, 39, 39, 40, 40, 40, 40, 40, 40, 41, 41,\n",
       "                          41, 41, 41, 41, 41, 41, 41, 41, 41, 42, 42, 42, 42, 42,\n",
       "                          42, 42, 42, 42, 43, 43, 43, 43, 43, 43, 44, 44, 44, 44,\n",
       "                          44, 44, 44, 44, 45, 45, 45, 45, 45, 46, 46, 46, 46, 47,\n",
       "                          47, 47, 47, 47, 48, 48, 48, 48, 49, 49, 49, 49, 49, 50,\n",
       "                          50, 50, 51, 51, 51, 51, 51, 51, 51, 51, 52, 52, 52, 52,\n",
       "                          52, 52, 52, 52, 52, 52, 53, 53, 53, 53, 53, 53, 53, 53,\n",
       "                          53, 53, 53, 53, 54, 54, 54, 54, 54, 54, 54, 55, 55, 55,\n",
       "                          55, 55, 55, 56, 56, 56, 56, 57, 57, 57, 57, 57, 58, 58,\n",
       "                          58, 58, 58, 58, 58, 58, 58, 58, 59, 59, 59, 59],\n",
       "                         [ 1,  0,  2,  3,  6,  8,  1,  3,  4,  5,  6,  1,  2,  4,\n",
       "                           5,  6,  8, 13,  2,  3,  5,  6, 12, 13, 14,  2,  3,  4,\n",
       "                           6,  7, 12, 23, 24,  1,  2,  3,  4,  5,  7,  8, 11, 12,\n",
       "                          13, 14, 20, 23, 24,  5,  6,  8,  9, 10, 11, 12, 20, 23,\n",
       "                          24, 25, 26,  1,  3,  6,  7,  9, 10, 11, 12, 13,  7,  8,\n",
       "                          10, 11, 20, 21, 22, 25, 26, 27, 29, 30, 58,  7,  8,  9,\n",
       "                          11, 12, 17, 18, 19, 26,  6,  7,  8,  9, 10, 12, 13, 16,\n",
       "                          17, 18,  4,  5,  6,  7,  8, 10, 11, 13, 14, 15, 16, 17,\n",
       "                          18, 24,  3,  4,  6,  8, 11, 12, 14, 15, 16,  4,  6, 12,\n",
       "                          13, 15, 16, 12, 13, 14, 16, 17, 11, 12, 13, 14, 15, 17,\n",
       "                          18, 10, 11, 12, 15, 16, 18, 19, 26, 10, 11, 12, 16, 17,\n",
       "                          19, 10, 17, 18, 26,  6,  7,  9, 21, 22, 23, 25, 27, 29,\n",
       "                          31,  9, 20, 22, 23, 27, 28, 29, 30, 31,  9, 20, 21, 23,\n",
       "                          24, 25, 27, 28, 29,  5,  6,  7, 20, 21, 22, 24, 25,  5,\n",
       "                           6,  7, 12, 22, 23, 25, 26,  7,  9, 20, 22, 23, 24, 26,\n",
       "                          27,  7,  9, 10, 17, 19, 24, 25, 27, 53, 56, 58,  9, 20,\n",
       "                          21, 22, 25, 26, 28, 29, 41, 53, 21, 22, 27, 29, 30, 31,\n",
       "                          53,  9, 20, 21, 22, 27, 28, 30, 31, 43, 53,  9, 21, 28,\n",
       "                          29, 31, 32, 51, 58, 20, 21, 28, 29, 30, 32, 49, 30, 31,\n",
       "                          49, 50, 34, 35, 33, 35, 36, 38, 33, 34, 36, 34, 35, 37,\n",
       "                          38, 36, 38, 39, 54, 34, 36, 37, 39, 40, 41, 42, 52, 54,\n",
       "                          37, 38, 40, 41, 44, 54, 38, 39, 41, 42, 44, 45, 27, 38,\n",
       "                          39, 40, 42, 43, 44, 51, 52, 53, 54, 38, 40, 41, 43, 44,\n",
       "                          45, 51, 52, 53, 29, 41, 42, 44, 51, 53, 39, 40, 41, 42,\n",
       "                          43, 45, 46, 47, 40, 42, 44, 46, 47, 44, 45, 47, 48, 44,\n",
       "                          45, 46, 48, 49, 46, 47, 49, 50, 31, 32, 47, 48, 50, 32,\n",
       "                          48, 49, 30, 41, 42, 43, 52, 53, 58, 59, 38, 41, 42, 51,\n",
       "                          53, 54, 55, 57, 58, 59, 26, 27, 28, 29, 41, 42, 43, 51,\n",
       "                          52, 54, 55, 58, 37, 38, 39, 41, 52, 53, 55, 52, 53, 54,\n",
       "                          56, 57, 58, 26, 55, 57, 58, 52, 55, 56, 58, 59,  9, 26,\n",
       "                          30, 51, 52, 53, 55, 56, 57, 59, 51, 52, 57, 58]]),\n",
       "         values=tensor([1, 1, 1, 1, 1, 1, 1, 1, 1, 1, 1, 1, 1, 1, 1, 1, 1, 1, 1,\n",
       "                        1, 1, 1, 1, 1, 1, 1, 1, 1, 1, 1, 1, 1, 1, 1, 1, 1, 1, 1,\n",
       "                        1, 1, 1, 1, 1, 1, 1, 1, 1, 1, 1, 1, 1, 1, 1, 1, 1, 1, 1,\n",
       "                        1, 1, 1, 1, 1, 1, 1, 1, 1, 1, 1, 1, 1, 1, 1, 1, 1, 1, 1,\n",
       "                        1, 1, 1, 1, 1, 1, 1, 1, 1, 1, 1, 1, 1, 1, 1, 1, 1, 1, 1,\n",
       "                        1, 1, 1, 1, 1, 1, 1, 1, 1, 1, 1, 1, 1, 1, 1, 1, 1, 1, 1,\n",
       "                        1, 1, 1, 1, 1, 1, 1, 1, 1, 1, 1, 1, 1, 1, 1, 1, 1, 1, 1,\n",
       "                        1, 1, 1, 1, 1, 1, 1, 1, 1, 1, 1, 1, 1, 1, 1, 1, 1, 1, 1,\n",
       "                        1, 1, 1, 1, 1, 1, 1, 1, 1, 1, 1, 1, 1, 1, 1, 1, 1, 1, 1,\n",
       "                        1, 1, 1, 1, 1, 1, 1, 1, 1, 1, 1, 1, 1, 1, 1, 1, 1, 1, 1,\n",
       "                        1, 1, 1, 1, 1, 1, 1, 1, 1, 1, 1, 1, 1, 1, 1, 1, 1, 1, 1,\n",
       "                        1, 1, 1, 1, 1, 1, 1, 1, 1, 1, 1, 1, 1, 1, 1, 1, 1, 1, 1,\n",
       "                        1, 1, 1, 1, 1, 1, 1, 1, 1, 1, 1, 1, 1, 1, 1, 1, 1, 1, 1,\n",
       "                        1, 1, 1, 1, 1, 1, 1, 1, 1, 1, 1, 1, 1, 1, 1, 1, 1, 1, 1,\n",
       "                        1, 1, 1, 1, 1, 1, 1, 1, 1, 1, 1, 1, 1, 1, 1, 1, 1, 1, 1,\n",
       "                        1, 1, 1, 1, 1, 1, 1, 1, 1, 1, 1, 1, 1, 1, 1, 1, 1, 1, 1,\n",
       "                        1, 1, 1, 1, 1, 1, 1, 1, 1, 1, 1, 1, 1, 1, 1, 1, 1, 1, 1,\n",
       "                        1, 1, 1, 1, 1, 1, 1, 1, 1, 1, 1, 1, 1, 1, 1, 1, 1, 1, 1,\n",
       "                        1, 1, 1, 1, 1, 1, 1, 1, 1, 1, 1, 1, 1, 1, 1, 1, 1, 1, 1,\n",
       "                        1, 1, 1, 1, 1, 1, 1, 1, 1, 1, 1, 1, 1, 1, 1, 1, 1, 1, 1,\n",
       "                        1, 1, 1, 1, 1, 1, 1, 1, 1, 1, 1, 1, 1, 1, 1, 1, 1, 1, 1,\n",
       "                        1, 1, 1, 1, 1, 1, 1, 1, 1, 1, 1, 1, 1, 1, 1, 1, 1, 1, 1,\n",
       "                        1, 1, 1, 1, 1, 1, 1, 1, 1, 1, 1, 1, 1, 1]),\n",
       "         size=(60, 60), nnz=432, dtype=torch.int8, layout=torch.sparse_coo),\n",
       "  'ag': tensor(indices=tensor([[  0,   0,   0,  ..., 321, 321, 321],\n",
       "                         [  1,   2,  40,  ..., 318, 319, 320]]),\n",
       "         values=tensor([1, 1, 1,  ..., 1, 1, 1]),\n",
       "         size=(322, 322), nnz=2496, dtype=torch.int8, layout=torch.sparse_coo),\n",
       "  'bipartite': tensor(indices=tensor([[ 12,  12,  15,  15,  15,  15,  15,  17,  17,  17,  18,\n",
       "                           19,  24,  24,  26,  26,  26,  26,  27,  39,  39,  41,\n",
       "                           41,  53,  54,  54,  54,  54,  54,  55,  55,  55,  56,\n",
       "                           56,  56],\n",
       "                         [260, 261, 239, 260, 261, 262, 263, 237, 263, 289, 289,\n",
       "                          236, 233, 260, 204, 234, 235, 236, 204, 206, 207, 204,\n",
       "                          205, 204, 203, 204, 215, 216, 217, 203, 217, 218, 218,\n",
       "                          235, 236]]),\n",
       "         values=tensor([1, 1, 1, 1, 1, 1, 1, 1, 1, 1, 1, 1, 1, 1, 1, 1, 1, 1, 1,\n",
       "                        1, 1, 1, 1, 1, 1, 1, 1, 1, 1, 1, 1, 1, 1, 1, 1]),\n",
       "         size=(60, 322), nnz=35, dtype=torch.int8, layout=torch.sparse_coo)},\n",
       " 'stats': {'cdr': np.int64(60),\n",
       "  'surf': np.int64(322),\n",
       "  'epitope': np.int64(20),\n",
       "  'epitope2surf_ratio': np.float64(0.062112)},\n",
       " 'Nb': np.int64(60),\n",
       " 'Ng': np.int64(322)}"
      ]
     },
     "execution_count": 63,
     "metadata": {},
     "output_type": "execute_result"
    }
   ],
   "source": [
    "# Load the file\n",
    "data = torch.load(graphs_asep_path + '1a14_0P.pt')\n",
    "\n",
    "data\n",
    "# print(data.keys())"
   ]
  },
  {
   "cell_type": "code",
   "execution_count": 64,
   "metadata": {},
   "outputs": [
    {
     "name": "stdout",
     "output_type": "stream",
     "text": [
      "1a14_0P {'cdr': np.int64(60), 'surf': np.int64(322), 'epitope': np.int64(20), 'epitope2surf_ratio': np.float64(0.062112)} \n",
      "Num of Ab residues:  60 \n",
      "Num of Ag residues:  322\n"
     ]
    }
   ],
   "source": [
    "print(data[\"abdbid\"], data[\"stats\"], \"\\nNum of Ab residues: \", data[\"Nb\"], \"\\nNum of Ag residues: \", data[\"Ng\"])"
   ]
  },
  {
   "cell_type": "code",
   "execution_count": 65,
   "metadata": {},
   "outputs": [
    {
     "data": {
      "text/plain": [
       "{'ab': OrderedDict([('H',\n",
       "               'QVQLQQSGAELVKPGASVRMSCKASGYTFTNYNMYWVKQSPGQGLEWIGIFYPGNGDTSYNQKFKDKATLTADKSSNTAYMQLSSLTSEDSAVYYCARSGGSYRYDGGFDYWGQGTTVTV'),\n",
       "              ('L',\n",
       "               'DIELTQTTSSLSASLGDRVTISCRASQDISNYLNWYQQNPDGTVKLLIYYTSNLHSEVPSRFSGSGSGTDYSLTISNLEQEDIATYFCQQDFTLPFTFGGGTAA')]),\n",
       " 'ag': {'N': 'RDFNNLTKGLCTINSWHIYGKDNAVRIGEDSDVLVTREPYVSCDPDECRFYALSQGTTIRGKHSNGTIHDRSQYRALISWPLSSPPTVYNSRVECIGWSSTSCHDGKTRMSICISGPNNNASAVIWYNRRPVTEINTWARNILRTQESECVCHNGVCPVVFTDGSATGPAETRIYYFKEGKILKWEPLAGTAKHIEECSCYGERAEITCTCRDNWQGSNRPVIRIDPVAMTHTSQYICSPVLTDNPRPNDPTVGKCNDPYPGNNNNGVKGFSYLDGVNTWLGRTISIASRSGYEMLKVPNALTDDKSKPTQGQTIVLNTDWSGYSGSFMDYWAEGECYRACFYVELIRGRPKEDKVWWTSNSIVSMCSSTEFLGQWDWPDGAKIEYFL'}}"
      ]
     },
     "execution_count": 65,
     "metadata": {},
     "output_type": "execute_result"
    }
   ],
   "source": [
    "data[\"seqres\"]"
   ]
  },
  {
   "cell_type": "code",
   "execution_count": 66,
   "metadata": {},
   "outputs": [
    {
     "data": {
      "text/plain": [
       "{'ab': tensor(indices=tensor([[ 0,  1,  1,  1,  1,  1,  2,  2,  2,  2,  2,  3,  3,  3,\n",
       "                          3,  3,  3,  3,  4,  4,  4,  4,  4,  4,  4,  5,  5,  5,\n",
       "                          5,  5,  5,  5,  5,  6,  6,  6,  6,  6,  6,  6,  6,  6,\n",
       "                          6,  6,  6,  6,  6,  7,  7,  7,  7,  7,  7,  7,  7,  7,\n",
       "                          7,  7,  7,  8,  8,  8,  8,  8,  8,  8,  8,  8,  9,  9,\n",
       "                          9,  9,  9,  9,  9,  9,  9,  9,  9,  9,  9, 10, 10, 10,\n",
       "                         10, 10, 10, 10, 10, 10, 11, 11, 11, 11, 11, 11, 11, 11,\n",
       "                         11, 11, 12, 12, 12, 12, 12, 12, 12, 12, 12, 12, 12, 12,\n",
       "                         12, 12, 13, 13, 13, 13, 13, 13, 13, 13, 13, 14, 14, 14,\n",
       "                         14, 14, 14, 15, 15, 15, 15, 15, 16, 16, 16, 16, 16, 16,\n",
       "                         16, 17, 17, 17, 17, 17, 17, 17, 17, 18, 18, 18, 18, 18,\n",
       "                         18, 19, 19, 19, 19, 20, 20, 20, 20, 20, 20, 20, 20, 20,\n",
       "                         20, 21, 21, 21, 21, 21, 21, 21, 21, 21, 22, 22, 22, 22,\n",
       "                         22, 22, 22, 22, 22, 23, 23, 23, 23, 23, 23, 23, 23, 24,\n",
       "                         24, 24, 24, 24, 24, 24, 24, 25, 25, 25, 25, 25, 25, 25,\n",
       "                         25, 26, 26, 26, 26, 26, 26, 26, 26, 26, 26, 26, 27, 27,\n",
       "                         27, 27, 27, 27, 27, 27, 27, 27, 28, 28, 28, 28, 28, 28,\n",
       "                         28, 29, 29, 29, 29, 29, 29, 29, 29, 29, 29, 30, 30, 30,\n",
       "                         30, 30, 30, 30, 30, 31, 31, 31, 31, 31, 31, 31, 32, 32,\n",
       "                         32, 32, 33, 33, 34, 34, 34, 34, 35, 35, 35, 36, 36, 36,\n",
       "                         36, 37, 37, 37, 37, 38, 38, 38, 38, 38, 38, 38, 38, 38,\n",
       "                         39, 39, 39, 39, 39, 39, 40, 40, 40, 40, 40, 40, 41, 41,\n",
       "                         41, 41, 41, 41, 41, 41, 41, 41, 41, 42, 42, 42, 42, 42,\n",
       "                         42, 42, 42, 42, 43, 43, 43, 43, 43, 43, 44, 44, 44, 44,\n",
       "                         44, 44, 44, 44, 45, 45, 45, 45, 45, 46, 46, 46, 46, 47,\n",
       "                         47, 47, 47, 47, 48, 48, 48, 48, 49, 49, 49, 49, 49, 50,\n",
       "                         50, 50, 51, 51, 51, 51, 51, 51, 51, 51, 52, 52, 52, 52,\n",
       "                         52, 52, 52, 52, 52, 52, 53, 53, 53, 53, 53, 53, 53, 53,\n",
       "                         53, 53, 53, 53, 54, 54, 54, 54, 54, 54, 54, 55, 55, 55,\n",
       "                         55, 55, 55, 56, 56, 56, 56, 57, 57, 57, 57, 57, 58, 58,\n",
       "                         58, 58, 58, 58, 58, 58, 58, 58, 59, 59, 59, 59],\n",
       "                        [ 1,  0,  2,  3,  6,  8,  1,  3,  4,  5,  6,  1,  2,  4,\n",
       "                          5,  6,  8, 13,  2,  3,  5,  6, 12, 13, 14,  2,  3,  4,\n",
       "                          6,  7, 12, 23, 24,  1,  2,  3,  4,  5,  7,  8, 11, 12,\n",
       "                         13, 14, 20, 23, 24,  5,  6,  8,  9, 10, 11, 12, 20, 23,\n",
       "                         24, 25, 26,  1,  3,  6,  7,  9, 10, 11, 12, 13,  7,  8,\n",
       "                         10, 11, 20, 21, 22, 25, 26, 27, 29, 30, 58,  7,  8,  9,\n",
       "                         11, 12, 17, 18, 19, 26,  6,  7,  8,  9, 10, 12, 13, 16,\n",
       "                         17, 18,  4,  5,  6,  7,  8, 10, 11, 13, 14, 15, 16, 17,\n",
       "                         18, 24,  3,  4,  6,  8, 11, 12, 14, 15, 16,  4,  6, 12,\n",
       "                         13, 15, 16, 12, 13, 14, 16, 17, 11, 12, 13, 14, 15, 17,\n",
       "                         18, 10, 11, 12, 15, 16, 18, 19, 26, 10, 11, 12, 16, 17,\n",
       "                         19, 10, 17, 18, 26,  6,  7,  9, 21, 22, 23, 25, 27, 29,\n",
       "                         31,  9, 20, 22, 23, 27, 28, 29, 30, 31,  9, 20, 21, 23,\n",
       "                         24, 25, 27, 28, 29,  5,  6,  7, 20, 21, 22, 24, 25,  5,\n",
       "                          6,  7, 12, 22, 23, 25, 26,  7,  9, 20, 22, 23, 24, 26,\n",
       "                         27,  7,  9, 10, 17, 19, 24, 25, 27, 53, 56, 58,  9, 20,\n",
       "                         21, 22, 25, 26, 28, 29, 41, 53, 21, 22, 27, 29, 30, 31,\n",
       "                         53,  9, 20, 21, 22, 27, 28, 30, 31, 43, 53,  9, 21, 28,\n",
       "                         29, 31, 32, 51, 58, 20, 21, 28, 29, 30, 32, 49, 30, 31,\n",
       "                         49, 50, 34, 35, 33, 35, 36, 38, 33, 34, 36, 34, 35, 37,\n",
       "                         38, 36, 38, 39, 54, 34, 36, 37, 39, 40, 41, 42, 52, 54,\n",
       "                         37, 38, 40, 41, 44, 54, 38, 39, 41, 42, 44, 45, 27, 38,\n",
       "                         39, 40, 42, 43, 44, 51, 52, 53, 54, 38, 40, 41, 43, 44,\n",
       "                         45, 51, 52, 53, 29, 41, 42, 44, 51, 53, 39, 40, 41, 42,\n",
       "                         43, 45, 46, 47, 40, 42, 44, 46, 47, 44, 45, 47, 48, 44,\n",
       "                         45, 46, 48, 49, 46, 47, 49, 50, 31, 32, 47, 48, 50, 32,\n",
       "                         48, 49, 30, 41, 42, 43, 52, 53, 58, 59, 38, 41, 42, 51,\n",
       "                         53, 54, 55, 57, 58, 59, 26, 27, 28, 29, 41, 42, 43, 51,\n",
       "                         52, 54, 55, 58, 37, 38, 39, 41, 52, 53, 55, 52, 53, 54,\n",
       "                         56, 57, 58, 26, 55, 57, 58, 52, 55, 56, 58, 59,  9, 26,\n",
       "                         30, 51, 52, 53, 55, 56, 57, 59, 51, 52, 57, 58]]),\n",
       "        values=tensor([1, 1, 1, 1, 1, 1, 1, 1, 1, 1, 1, 1, 1, 1, 1, 1, 1, 1, 1,\n",
       "                       1, 1, 1, 1, 1, 1, 1, 1, 1, 1, 1, 1, 1, 1, 1, 1, 1, 1, 1,\n",
       "                       1, 1, 1, 1, 1, 1, 1, 1, 1, 1, 1, 1, 1, 1, 1, 1, 1, 1, 1,\n",
       "                       1, 1, 1, 1, 1, 1, 1, 1, 1, 1, 1, 1, 1, 1, 1, 1, 1, 1, 1,\n",
       "                       1, 1, 1, 1, 1, 1, 1, 1, 1, 1, 1, 1, 1, 1, 1, 1, 1, 1, 1,\n",
       "                       1, 1, 1, 1, 1, 1, 1, 1, 1, 1, 1, 1, 1, 1, 1, 1, 1, 1, 1,\n",
       "                       1, 1, 1, 1, 1, 1, 1, 1, 1, 1, 1, 1, 1, 1, 1, 1, 1, 1, 1,\n",
       "                       1, 1, 1, 1, 1, 1, 1, 1, 1, 1, 1, 1, 1, 1, 1, 1, 1, 1, 1,\n",
       "                       1, 1, 1, 1, 1, 1, 1, 1, 1, 1, 1, 1, 1, 1, 1, 1, 1, 1, 1,\n",
       "                       1, 1, 1, 1, 1, 1, 1, 1, 1, 1, 1, 1, 1, 1, 1, 1, 1, 1, 1,\n",
       "                       1, 1, 1, 1, 1, 1, 1, 1, 1, 1, 1, 1, 1, 1, 1, 1, 1, 1, 1,\n",
       "                       1, 1, 1, 1, 1, 1, 1, 1, 1, 1, 1, 1, 1, 1, 1, 1, 1, 1, 1,\n",
       "                       1, 1, 1, 1, 1, 1, 1, 1, 1, 1, 1, 1, 1, 1, 1, 1, 1, 1, 1,\n",
       "                       1, 1, 1, 1, 1, 1, 1, 1, 1, 1, 1, 1, 1, 1, 1, 1, 1, 1, 1,\n",
       "                       1, 1, 1, 1, 1, 1, 1, 1, 1, 1, 1, 1, 1, 1, 1, 1, 1, 1, 1,\n",
       "                       1, 1, 1, 1, 1, 1, 1, 1, 1, 1, 1, 1, 1, 1, 1, 1, 1, 1, 1,\n",
       "                       1, 1, 1, 1, 1, 1, 1, 1, 1, 1, 1, 1, 1, 1, 1, 1, 1, 1, 1,\n",
       "                       1, 1, 1, 1, 1, 1, 1, 1, 1, 1, 1, 1, 1, 1, 1, 1, 1, 1, 1,\n",
       "                       1, 1, 1, 1, 1, 1, 1, 1, 1, 1, 1, 1, 1, 1, 1, 1, 1, 1, 1,\n",
       "                       1, 1, 1, 1, 1, 1, 1, 1, 1, 1, 1, 1, 1, 1, 1, 1, 1, 1, 1,\n",
       "                       1, 1, 1, 1, 1, 1, 1, 1, 1, 1, 1, 1, 1, 1, 1, 1, 1, 1, 1,\n",
       "                       1, 1, 1, 1, 1, 1, 1, 1, 1, 1, 1, 1, 1, 1, 1, 1, 1, 1, 1,\n",
       "                       1, 1, 1, 1, 1, 1, 1, 1, 1, 1, 1, 1, 1, 1]),\n",
       "        size=(60, 60), nnz=432, dtype=torch.int8, layout=torch.sparse_coo),\n",
       " 'ag': tensor(indices=tensor([[  0,   0,   0,  ..., 321, 321, 321],\n",
       "                        [  1,   2,  40,  ..., 318, 319, 320]]),\n",
       "        values=tensor([1, 1, 1,  ..., 1, 1, 1]),\n",
       "        size=(322, 322), nnz=2496, dtype=torch.int8, layout=torch.sparse_coo),\n",
       " 'bipartite': tensor(indices=tensor([[ 12,  12,  15,  15,  15,  15,  15,  17,  17,  17,  18,\n",
       "                          19,  24,  24,  26,  26,  26,  26,  27,  39,  39,  41,\n",
       "                          41,  53,  54,  54,  54,  54,  54,  55,  55,  55,  56,\n",
       "                          56,  56],\n",
       "                        [260, 261, 239, 260, 261, 262, 263, 237, 263, 289, 289,\n",
       "                         236, 233, 260, 204, 234, 235, 236, 204, 206, 207, 204,\n",
       "                         205, 204, 203, 204, 215, 216, 217, 203, 217, 218, 218,\n",
       "                         235, 236]]),\n",
       "        values=tensor([1, 1, 1, 1, 1, 1, 1, 1, 1, 1, 1, 1, 1, 1, 1, 1, 1, 1, 1,\n",
       "                       1, 1, 1, 1, 1, 1, 1, 1, 1, 1, 1, 1, 1, 1, 1, 1]),\n",
       "        size=(60, 322), nnz=35, dtype=torch.int8, layout=torch.sparse_coo)}"
      ]
     },
     "execution_count": 66,
     "metadata": {},
     "output_type": "execute_result"
    }
   ],
   "source": [
    "data[\"edges\"]"
   ]
  },
  {
   "cell_type": "code",
   "execution_count": 67,
   "metadata": {},
   "outputs": [
    {
     "data": {
      "text/plain": [
       "{'ab': {'igfold': tensor([[-1.0399,  0.8704, -0.8608,  ..., -0.6498, -0.8094, -1.1807],\n",
       "          [-0.3633, -0.7151, -0.3709,  ...,  0.2797,  0.7048, -1.8234],\n",
       "          [-1.7666,  0.6667, -1.0148,  ..., -0.1468, -0.0720,  0.7058],\n",
       "          ...,\n",
       "          [ 0.0961,  0.0582,  0.2877,  ..., -1.4733, -1.5955, -0.1268],\n",
       "          [ 0.6668,  0.9970, -0.0531,  ..., -1.2293, -0.4893,  1.0265],\n",
       "          [ 0.4168, -0.4423, -0.4230,  ..., -1.3241, -1.5058,  0.1727]]),\n",
       "  'esm2': tensor([[-0.1389,  0.0946, -0.0205,  ..., -0.2107, -0.0520,  0.2371],\n",
       "          [-0.2513,  0.2416,  0.3241,  ..., -0.0842, -0.0924,  0.0170],\n",
       "          [-0.2048,  0.4315,  0.1440,  ..., -0.1274, -0.1466,  0.0419],\n",
       "          ...,\n",
       "          [ 0.0379, -0.0913,  0.2922,  ...,  0.1453, -0.1520, -0.0724],\n",
       "          [-0.0126, -0.0456,  0.2564,  ..., -0.2632, -0.3195, -0.0351],\n",
       "          [-0.1132, -0.0020,  0.1805,  ..., -0.4602, -0.3141, -0.0088]])},\n",
       " 'ag': {'esm2': tensor([[-3.8686e-01, -3.0338e-02, -2.8695e-01,  ..., -4.8196e-01,\n",
       "           -1.9350e-01,  3.9596e-01],\n",
       "          [-2.2245e-02, -4.8630e-02,  2.2981e-02,  ..., -1.6270e-01,\n",
       "           -3.1385e-01,  4.7299e-02],\n",
       "          [-4.7153e-05,  2.2743e-01,  1.5891e-01,  ..., -1.4885e-01,\n",
       "           -4.2330e-02, -6.1085e-02],\n",
       "          ...,\n",
       "          [ 2.1542e-01,  1.5485e-01,  1.6546e-01,  ..., -5.7342e-03,\n",
       "            8.6300e-02,  2.6774e-01],\n",
       "          [ 8.0652e-02,  1.8950e-01,  3.4881e-01,  ..., -1.8467e-01,\n",
       "            2.0878e-02, -7.7456e-02],\n",
       "          [-5.9451e-02,  9.8879e-02,  1.9795e-02,  ..., -4.4214e-01,\n",
       "            6.0120e-02,  4.4205e-02]])}}"
      ]
     },
     "execution_count": 67,
     "metadata": {},
     "output_type": "execute_result"
    }
   ],
   "source": [
    "data[\"embedding\"]"
   ]
  },
  {
   "cell_type": "code",
   "execution_count": 68,
   "metadata": {},
   "outputs": [
    {
     "name": "stderr",
     "output_type": "stream",
     "text": [
      "/var/folders/kj/vbx4s2zd1v1ff2bc0p2tvy6r0000gn/T/ipykernel_85091/1293563783.py:1: FutureWarning: You are using `torch.load` with `weights_only=False` (the current default value), which uses the default pickle module implicitly. It is possible to construct malicious pickle data which will execute arbitrary code during unpickling (See https://github.com/pytorch/pytorch/blob/main/SECURITY.md#untrusted-models for more details). In a future release, the default value for `weights_only` will be flipped to `True`. This limits the functions that could be executed during unpickling. Arbitrary objects will no longer be allowed to be loaded via this mode unless they are explicitly allowlisted by the user via `torch.serialization.add_safe_globals`. We recommend you start setting `weights_only=True` for any use case where you don't have full control of the loaded file. Please open an issue on GitHub for any issues related to this experimental feature.\n",
      "  pre_cal = torch.load(asep_data_dir + \"processed/\" + 'pre_cal.pt')\n"
     ]
    },
    {
     "data": {
      "text/plain": [
       "(PairData(x_b=[104311, 480], x_g=[495555, 480], edge_index_b=[2, 658426], edge_index_g=[2, 3819138], abdbid=[1723], edge_index_bg=[2, 75239], y_b=[104311], y_g=[495555]),\n",
       " {'x_b': tensor([     0,     55,    112,  ..., 104193, 104247, 104311]),\n",
       "  'x_g': tensor([     0,    171,    666,  ..., 495027, 495106, 495555]),\n",
       "  'edge_index_b': tensor([     0,    352,    714,  ..., 657712, 658042, 658426]),\n",
       "  'edge_index_g': tensor([      0,    1240,    4966,  ..., 3814990, 3815554, 3819138]),\n",
       "  'abdbid': tensor([   0,    1,    2,  ..., 1721, 1722, 1723]),\n",
       "  'edge_index_bg': tensor([    0,    43,    87,  ..., 75144, 75194, 75239]),\n",
       "  'y_b': tensor([     0,     55,    112,  ..., 104193, 104247, 104311]),\n",
       "  'y_g': tensor([     0,    171,    666,  ..., 495027, 495106, 495555])})"
      ]
     },
     "execution_count": 68,
     "metadata": {},
     "output_type": "execute_result"
    }
   ],
   "source": [
    "pre_cal = torch.load(asep_data_dir + \"processed/\" + 'pre_cal.pt')\n",
    "\n",
    "pre_cal"
   ]
  },
  {
   "cell_type": "code",
   "execution_count": 69,
   "metadata": {},
   "outputs": [
    {
     "name": "stderr",
     "output_type": "stream",
     "text": [
      "/var/folders/kj/vbx4s2zd1v1ff2bc0p2tvy6r0000gn/T/ipykernel_85091/493798296.py:1: FutureWarning: You are using `torch.load` with `weights_only=False` (the current default value), which uses the default pickle module implicitly. It is possible to construct malicious pickle data which will execute arbitrary code during unpickling (See https://github.com/pytorch/pytorch/blob/main/SECURITY.md#untrusted-models for more details). In a future release, the default value for `weights_only` will be flipped to `True`. This limits the functions that could be executed during unpickling. Arbitrary objects will no longer be allowed to be loaded via this mode unless they are explicitly allowlisted by the user via `torch.serialization.add_safe_globals`. We recommend you start setting `weights_only=True` for any use case where you don't have full control of the loaded file. Please open an issue on GitHub for any issues related to this experimental feature.\n",
      "  one_hot = torch.load(asep_data_dir + \"processed/\" + 'blosum62_blosum62_emb.pt')\n"
     ]
    },
    {
     "data": {
      "text/plain": [
       "(PairData(x_b=[104311, 24], x_g=[495555, 24], edge_index_b=[2, 658426], edge_index_g=[2, 3819138], abdbid=[1723], edge_index_bg=[2, 75239], y_b=[104311], y_g=[495555]),\n",
       " {'x_b': tensor([     0,     55,    112,  ..., 104193, 104247, 104311]),\n",
       "  'x_g': tensor([     0,    171,    666,  ..., 495027, 495106, 495555]),\n",
       "  'edge_index_b': tensor([     0,    352,    714,  ..., 657712, 658042, 658426]),\n",
       "  'edge_index_g': tensor([      0,    1240,    4966,  ..., 3814990, 3815554, 3819138]),\n",
       "  'abdbid': tensor([   0,    1,    2,  ..., 1721, 1722, 1723]),\n",
       "  'edge_index_bg': tensor([    0,    43,    87,  ..., 75144, 75194, 75239]),\n",
       "  'y_b': tensor([     0,     55,    112,  ..., 104193, 104247, 104311]),\n",
       "  'y_g': tensor([     0,    171,    666,  ..., 495027, 495106, 495555])})"
      ]
     },
     "execution_count": 69,
     "metadata": {},
     "output_type": "execute_result"
    }
   ],
   "source": [
    "one_hot = torch.load(asep_data_dir + \"processed/\" + 'blosum62_blosum62_emb.pt')\n",
    "\n",
    "one_hot"
   ]
  },
  {
   "cell_type": "markdown",
   "metadata": {},
   "source": [
    "## visualize the structure of a single raw .pt file"
   ]
  },
  {
   "cell_type": "code",
   "execution_count": 70,
   "metadata": {},
   "outputs": [
    {
     "name": "stderr",
     "output_type": "stream",
     "text": [
      "/var/folders/kj/vbx4s2zd1v1ff2bc0p2tvy6r0000gn/T/ipykernel_85091/1751226753.py:2: FutureWarning: You are using `torch.load` with `weights_only=False` (the current default value), which uses the default pickle module implicitly. It is possible to construct malicious pickle data which will execute arbitrary code during unpickling (See https://github.com/pytorch/pytorch/blob/main/SECURITY.md#untrusted-models for more details). In a future release, the default value for `weights_only` will be flipped to `True`. This limits the functions that could be executed during unpickling. Arbitrary objects will no longer be allowed to be loaded via this mode unless they are explicitly allowlisted by the user via `torch.serialization.add_safe_globals`. We recommend you start setting `weights_only=True` for any use case where you don't have full control of the loaded file. Please open an issue on GitHub for any issues related to this experimental feature.\n",
      "  data = torch.load(graphs_asep_path + '3v6o_1P.pt')\n"
     ]
    },
    {
     "data": {
      "text/plain": [
       "{'abdbid': '3v6o_1P',\n",
       " 'seqres': {'ab': OrderedDict([('H',\n",
       "                'EVKLLESGPGLVAPSESLSITCTISGFSLTDDGVSWIRQPPGKGLEWLGVIWGGGSTYFNSLFKSRLSITRDNSKSQVFLEMDSLQTDDTAMYYCAKHDGHETMDYWGQGTSVTVSS'),\n",
       "               ('L',\n",
       "                'IVMTQSPKFMSTSIGDRVNITCKATQNVRTAVTWYQQKPGQSPQALIFLASNRHTGVPARFTGSGSGTDFTLTINNVKSEDLADYFCLQHWNYPLTFGSGTKLEIKRAD')]),\n",
       "  'ag': {'a': 'VNINISCETDGYLTKMTCRWSTSTIQSLAESTLQLRYHRSSLYCSDIPSIHPISEPKDCYLQSDGFYECIFQPIFLLSGYTMWIRINHSLGSLDSPPTCVLPDSVVKPLPPSSVKAEITINIGLLKISWEKPVFPENNLQFQIRYGLSGKEVQWKMYEVYDAKSKSVSLPVPDLCAVYAVQVRCKRLDGLGYWSNWSNPAYT'}},\n",
       " 'mapping': {'ab': {'seqres2cdr': array([0, 0, 0, 0, 0, 0, 0, 0, 0, 0, 0, 0, 0, 0, 0, 0, 0, 0, 0, 0, 0, 0,\n",
       "          0, 0, 0, 1, 1, 1, 1, 1, 1, 1, 1, 1, 1, 0, 0, 0, 0, 0, 0, 0, 0, 0,\n",
       "          0, 0, 0, 0, 0, 1, 1, 1, 1, 1, 1, 1, 1, 1, 0, 0, 0, 0, 0, 0, 0, 0,\n",
       "          0, 0, 0, 0, 0, 0, 0, 0, 0, 0, 0, 0, 0, 0, 0, 0, 0, 0, 0, 0, 0, 0,\n",
       "          0, 0, 0, 0, 0, 0, 0, 0, 0, 1, 1, 1, 1, 1, 1, 1, 1, 1, 0, 0, 0, 0,\n",
       "          0, 0, 0, 0, 0, 0, 0, 0, 0, 0, 0, 0, 0, 0, 0, 0, 0, 0, 0, 0, 0, 0,\n",
       "          0, 0, 0, 0, 0, 0, 0, 1, 1, 1, 1, 1, 1, 1, 1, 1, 1, 1, 0, 0, 0, 0,\n",
       "          0, 0, 0, 0, 0, 0, 0, 0, 0, 0, 0, 1, 1, 1, 1, 1, 1, 1, 0, 0, 0, 0,\n",
       "          0, 0, 0, 0, 0, 0, 0, 0, 0, 0, 0, 0, 0, 0, 0, 0, 0, 0, 0, 0, 0, 0,\n",
       "          0, 0, 0, 0, 0, 0, 1, 1, 1, 1, 1, 1, 1, 1, 1, 0, 0, 0, 0, 0, 0, 0,\n",
       "          0, 0, 0, 0, 0, 0])},\n",
       "  'ag': {'seqres2surf': array([1, 1, 1, 1, 1, 1, 1, 1, 0, 1, 1, 1, 1, 1, 1, 0, 1, 0, 1, 1, 1, 1,\n",
       "          1, 1, 0, 0, 0, 0, 0, 0, 1, 1, 1, 1, 1, 1, 1, 1, 1, 1, 1, 1, 1, 1,\n",
       "          1, 1, 1, 1, 1, 1, 1, 1, 1, 1, 1, 1, 1, 1, 1, 1, 1, 1, 1, 1, 1, 1,\n",
       "          1, 1, 0, 1, 1, 1, 1, 1, 1, 1, 1, 1, 0, 1, 1, 1, 0, 0, 1, 1, 1, 1,\n",
       "          1, 1, 1, 1, 1, 1, 1, 1, 1, 1, 1, 1, 1, 0, 1, 1, 1, 1, 1, 1, 1, 1,\n",
       "          1, 1, 1, 1, 1, 1, 1, 1, 1, 1, 1, 1, 1, 1, 0, 1, 0, 1, 1, 1, 0, 0,\n",
       "          0, 0, 0, 0, 1, 1, 1, 1, 1, 1, 0, 1, 1, 1, 1, 1, 1, 1, 1, 1, 1, 1,\n",
       "          1, 1, 1, 1, 1, 0, 0, 0, 0, 0, 0, 1, 1, 1, 1, 1, 1, 1, 1, 1, 1, 1,\n",
       "          1, 1, 1, 0, 1, 0, 1, 1, 1, 1, 1, 1, 1, 1, 1, 1, 1, 1, 1, 1, 1, 1,\n",
       "          1, 1, 1, 1]),\n",
       "   'seqres2epitope': array([0, 0, 0, 0, 0, 0, 0, 0, 0, 0, 0, 0, 0, 0, 0, 0, 0, 0, 0, 0, 0, 0,\n",
       "          0, 0, 0, 0, 0, 0, 0, 0, 0, 0, 0, 0, 0, 1, 1, 1, 1, 1, 1, 1, 0, 0,\n",
       "          0, 0, 0, 0, 0, 1, 1, 1, 1, 1, 1, 1, 0, 0, 0, 0, 0, 0, 0, 0, 0, 0,\n",
       "          0, 0, 0, 0, 0, 0, 1, 0, 1, 0, 0, 0, 0, 0, 0, 0, 0, 0, 0, 0, 0, 0,\n",
       "          0, 0, 0, 0, 0, 0, 0, 0, 0, 0, 0, 0, 0, 0, 0, 0, 0, 0, 0, 0, 0, 0,\n",
       "          0, 0, 0, 0, 0, 0, 0, 0, 0, 0, 0, 0, 0, 0, 0, 0, 0, 0, 0, 0, 0, 0,\n",
       "          0, 0, 0, 0, 0, 0, 0, 0, 0, 0, 0, 0, 0, 0, 0, 0, 0, 0, 0, 0, 0, 0,\n",
       "          0, 0, 0, 0, 0, 0, 0, 0, 0, 0, 0, 0, 0, 0, 0, 0, 0, 0, 0, 0, 0, 0,\n",
       "          0, 0, 0, 0, 0, 0, 0, 0, 0, 0, 0, 0, 0, 0, 0, 0, 0, 0, 0, 0, 0, 0,\n",
       "          0, 0, 0, 0])}},\n",
       " 'embedding': {'ab': {'igfold': tensor([[ 0.6169, -0.4420, -0.3087,  ..., -0.8099, -0.7000, -0.0160],\n",
       "           [ 0.5895, -1.8025,  0.2971,  ..., -0.2689, -1.1066, -0.5688],\n",
       "           [ 0.4961,  0.0961,  1.2082,  ..., -0.0081, -0.8354, -0.1997],\n",
       "           ...,\n",
       "           [-0.3951, -1.3307, -0.9858,  ...,  0.1609, -1.2808, -1.9163],\n",
       "           [ 0.9387,  0.9636, -1.4880,  ..., -0.9155, -0.4301,  0.0941],\n",
       "           [-0.0762,  0.2105, -0.8936,  ..., -0.5634, -1.6329, -1.0089]]),\n",
       "   'esm2': tensor([[-0.2672,  0.2966,  0.1050,  ..., -0.0929, -0.2331,  0.2241],\n",
       "           [-0.0852,  0.7031,  0.0445,  ..., -0.1265, -0.1924, -0.1574],\n",
       "           [-0.5888,  0.3629,  0.4682,  ..., -0.4519, -0.3691,  0.0127],\n",
       "           ...,\n",
       "           [-0.1589,  0.2135,  0.5314,  ...,  0.0120,  0.1010, -0.1775],\n",
       "           [-0.1448, -0.1693, -0.0167,  ...,  0.1834, -0.2415,  0.1178],\n",
       "           [-0.1106,  0.0266,  0.1945,  ...,  0.2171, -0.4239,  0.4518]])},\n",
       "  'ag': {'esm2': tensor([[ 0.0422,  0.1868,  0.1037,  ..., -0.3361,  0.2375, -0.0871],\n",
       "           [ 0.1922,  0.2044, -0.2248,  ..., -0.0742, -0.1183,  0.0206],\n",
       "           [-0.0583,  0.1024,  0.1340,  ..., -0.1096,  0.2122,  0.0389],\n",
       "           ...,\n",
       "           [ 0.3726,  0.4016,  0.2646,  ..., -0.1940, -0.1093, -0.0407],\n",
       "           [ 0.3042, -0.0193,  0.3107,  ...,  0.0565,  0.3138,  0.3278],\n",
       "           [ 0.0657, -0.3205,  0.4422,  ...,  0.0898, -0.1690,  0.0485]])}},\n",
       " 'edges': {'ab': tensor(indices=tensor([[ 0,  1,  1,  1,  1,  2,  2,  2,  2,  2,  3,  3,  3,  3,\n",
       "                           3,  3,  3,  4,  4,  4,  4,  4,  4,  5,  5,  5,  5,  5,\n",
       "                           6,  6,  6,  6,  6,  6,  6,  6,  6,  6,  6,  6,  7,  7,\n",
       "                           7,  7,  7,  7,  7,  7,  8,  8,  8,  8,  8,  8,  8,  8,\n",
       "                           9,  9,  9,  9,  9, 10, 10, 10, 10, 10, 10, 10, 10, 10,\n",
       "                          11, 11, 11, 11, 11, 11, 11, 11, 11, 12, 12, 12, 12, 12,\n",
       "                          12, 12, 12, 12, 12, 12, 12, 12, 12, 13, 13, 13, 13, 13,\n",
       "                          13, 13, 13, 13, 14, 14, 14, 14, 14, 15, 15, 15, 15, 15,\n",
       "                          15, 16, 16, 16, 16, 16, 16, 16, 17, 17, 17, 17, 17, 18,\n",
       "                          18, 18, 18, 18, 19, 19, 19, 19, 19, 19, 19, 19, 19, 19,\n",
       "                          19, 19, 19, 20, 20, 20, 20, 20, 20, 20, 21, 21, 21, 21,\n",
       "                          21, 21, 22, 22, 22, 22, 22, 22, 23, 23, 23, 23, 23, 23,\n",
       "                          23, 24, 24, 24, 24, 24, 24, 24, 24, 25, 25, 25, 25, 25,\n",
       "                          25, 25, 26, 26, 26, 26, 26, 26, 27, 27, 27, 27, 28, 28,\n",
       "                          29, 29, 29, 29, 30, 30, 30, 31, 31, 31, 31, 32, 32, 32,\n",
       "                          32, 33, 33, 33, 33, 33, 33, 33, 33, 33, 34, 34, 34, 34,\n",
       "                          34, 35, 35, 35, 35, 35, 35, 36, 36, 36, 36, 36, 36, 36,\n",
       "                          36, 36, 36, 37, 37, 37, 37, 37, 37, 37, 38, 38, 38, 38,\n",
       "                          38, 38, 39, 39, 39, 39, 39, 39, 39, 39, 40, 40, 40, 40,\n",
       "                          40, 41, 41, 41, 41, 42, 42, 42, 42, 42, 43, 43, 43, 43,\n",
       "                          44, 44, 44, 44, 44, 45, 45, 45, 46, 46, 46, 46, 46, 46,\n",
       "                          46, 46, 47, 47, 47, 47, 47, 47, 47, 47, 47, 48, 48, 48,\n",
       "                          48, 48, 48, 48, 48, 48, 48, 48, 48, 49, 49, 49, 49, 49,\n",
       "                          49, 49, 50, 50, 50, 50, 50, 50, 51, 51, 51, 51, 51, 52,\n",
       "                          52, 52, 52, 52, 53, 53, 53, 53, 53, 53, 53, 53, 54, 54,\n",
       "                          54, 54],\n",
       "                         [ 1,  0,  2,  3,  8,  1,  3,  4,  5,  6,  1,  2,  4,  5,\n",
       "                           6,  8, 13,  2,  3,  5,  6, 13, 14,  2,  3,  4,  6, 13,\n",
       "                           2,  3,  4,  5,  7,  8, 11, 12, 13, 19, 20, 21,  6,  8,\n",
       "                           9, 10, 11, 12, 13, 19,  1,  3,  6,  7,  9, 10, 11, 19,\n",
       "                           7,  8, 10, 19, 25,  7,  8,  9, 11, 12, 16, 17, 18, 19,\n",
       "                           6,  7,  8, 10, 12, 13, 15, 16, 17,  6,  7, 10, 11, 13,\n",
       "                          14, 15, 16, 18, 19, 21, 22, 48, 51,  3,  4,  5,  6,  7,\n",
       "                          11, 12, 14, 15,  4, 12, 13, 15, 16, 11, 12, 13, 14, 16,\n",
       "                          17, 10, 11, 12, 14, 15, 17, 18, 10, 11, 15, 16, 18, 10,\n",
       "                          12, 16, 17, 51,  6,  7,  8,  9, 10, 12, 20, 21, 24, 25,\n",
       "                          26, 48, 53,  6, 19, 21, 22, 23, 24, 26,  6, 12, 19, 20,\n",
       "                          22, 23, 12, 20, 21, 23, 24, 48, 20, 21, 22, 24, 38, 39,\n",
       "                          48, 19, 20, 22, 23, 25, 26, 38, 48,  9, 19, 24, 26, 27,\n",
       "                          46, 48, 19, 20, 24, 25, 27, 44, 25, 26, 44, 45, 29, 30,\n",
       "                          28, 30, 31, 33, 28, 29, 31, 29, 30, 32, 33, 31, 33, 34,\n",
       "                          49, 29, 31, 32, 34, 35, 36, 37, 47, 49, 32, 33, 35, 36,\n",
       "                          49, 33, 34, 36, 37, 39, 40, 33, 34, 35, 37, 38, 39, 46,\n",
       "                          47, 48, 49, 33, 35, 36, 38, 39, 40, 46, 23, 24, 36, 37,\n",
       "                          39, 46, 23, 35, 36, 37, 38, 40, 41, 42, 35, 37, 39, 41,\n",
       "                          42, 39, 40, 42, 43, 39, 40, 41, 43, 44, 41, 42, 44, 45,\n",
       "                          26, 27, 42, 43, 45, 27, 43, 44, 25, 36, 37, 38, 47, 48,\n",
       "                          53, 54, 33, 36, 46, 48, 49, 50, 52, 53, 54, 12, 19, 22,\n",
       "                          23, 24, 25, 36, 46, 47, 49, 50, 53, 32, 33, 34, 36, 47,\n",
       "                          48, 50, 47, 48, 49, 51, 52, 53, 12, 18, 50, 52, 53, 47,\n",
       "                          50, 51, 53, 54, 19, 46, 47, 48, 50, 51, 52, 54, 46, 47,\n",
       "                          52, 53]]),\n",
       "         values=tensor([1, 1, 1, 1, 1, 1, 1, 1, 1, 1, 1, 1, 1, 1, 1, 1, 1, 1, 1,\n",
       "                        1, 1, 1, 1, 1, 1, 1, 1, 1, 1, 1, 1, 1, 1, 1, 1, 1, 1, 1,\n",
       "                        1, 1, 1, 1, 1, 1, 1, 1, 1, 1, 1, 1, 1, 1, 1, 1, 1, 1, 1,\n",
       "                        1, 1, 1, 1, 1, 1, 1, 1, 1, 1, 1, 1, 1, 1, 1, 1, 1, 1, 1,\n",
       "                        1, 1, 1, 1, 1, 1, 1, 1, 1, 1, 1, 1, 1, 1, 1, 1, 1, 1, 1,\n",
       "                        1, 1, 1, 1, 1, 1, 1, 1, 1, 1, 1, 1, 1, 1, 1, 1, 1, 1, 1,\n",
       "                        1, 1, 1, 1, 1, 1, 1, 1, 1, 1, 1, 1, 1, 1, 1, 1, 1, 1, 1,\n",
       "                        1, 1, 1, 1, 1, 1, 1, 1, 1, 1, 1, 1, 1, 1, 1, 1, 1, 1, 1,\n",
       "                        1, 1, 1, 1, 1, 1, 1, 1, 1, 1, 1, 1, 1, 1, 1, 1, 1, 1, 1,\n",
       "                        1, 1, 1, 1, 1, 1, 1, 1, 1, 1, 1, 1, 1, 1, 1, 1, 1, 1, 1,\n",
       "                        1, 1, 1, 1, 1, 1, 1, 1, 1, 1, 1, 1, 1, 1, 1, 1, 1, 1, 1,\n",
       "                        1, 1, 1, 1, 1, 1, 1, 1, 1, 1, 1, 1, 1, 1, 1, 1, 1, 1, 1,\n",
       "                        1, 1, 1, 1, 1, 1, 1, 1, 1, 1, 1, 1, 1, 1, 1, 1, 1, 1, 1,\n",
       "                        1, 1, 1, 1, 1, 1, 1, 1, 1, 1, 1, 1, 1, 1, 1, 1, 1, 1, 1,\n",
       "                        1, 1, 1, 1, 1, 1, 1, 1, 1, 1, 1, 1, 1, 1, 1, 1, 1, 1, 1,\n",
       "                        1, 1, 1, 1, 1, 1, 1, 1, 1, 1, 1, 1, 1, 1, 1, 1, 1, 1, 1,\n",
       "                        1, 1, 1, 1, 1, 1, 1, 1, 1, 1, 1, 1, 1, 1, 1, 1, 1, 1, 1,\n",
       "                        1, 1, 1, 1, 1, 1, 1, 1, 1, 1, 1, 1, 1, 1, 1, 1, 1, 1, 1,\n",
       "                        1, 1, 1, 1, 1, 1, 1, 1, 1, 1]),\n",
       "         size=(55, 55), nnz=352, dtype=torch.int8, layout=torch.sparse_coo),\n",
       "  'ag': tensor(indices=tensor([[  0,   0,   0,  ..., 170, 170, 170],\n",
       "                         [  1,   2,  81,  ..., 148, 168, 169]]),\n",
       "         values=tensor([1, 1, 1,  ..., 1, 1, 1]),\n",
       "         size=(171, 171), nnz=1240, dtype=torch.int8, layout=torch.sparse_coo),\n",
       "  'bipartite': tensor(indices=tensor([[ 5,  5,  5,  6,  6, 12, 12, 13, 14, 15, 16, 16, 18, 18,\n",
       "                          20, 20, 21, 22, 22, 22, 22, 22, 23, 23, 23, 23, 23, 23,\n",
       "                          24, 39, 39, 39, 42, 48, 49, 49, 49, 49, 50, 50, 51, 51,\n",
       "                          53],\n",
       "                         [29, 62, 64, 29, 64, 43, 45, 45, 45, 45, 45, 46, 26, 44,\n",
       "                          29, 31, 29, 27, 28, 29, 43, 45, 28, 29, 30, 31, 32, 41,\n",
       "                          31, 30, 31, 32, 32, 43, 40, 41, 42, 43, 42, 43, 42, 43,\n",
       "                          43]]),\n",
       "         values=tensor([1, 1, 1, 1, 1, 1, 1, 1, 1, 1, 1, 1, 1, 1, 1, 1, 1, 1, 1,\n",
       "                        1, 1, 1, 1, 1, 1, 1, 1, 1, 1, 1, 1, 1, 1, 1, 1, 1, 1, 1,\n",
       "                        1, 1, 1, 1, 1]),\n",
       "         size=(55, 171), nnz=43, dtype=torch.int8, layout=torch.sparse_coo)},\n",
       " 'stats': {'cdr': np.int64(55),\n",
       "  'surf': np.int64(171),\n",
       "  'epitope': np.int64(16),\n",
       "  'epitope2surf_ratio': np.float64(0.093567)},\n",
       " 'Nb': np.int64(55),\n",
       " 'Ng': np.int64(171)}"
      ]
     },
     "execution_count": 70,
     "metadata": {},
     "output_type": "execute_result"
    }
   ],
   "source": [
    "# Load the file\n",
    "data = torch.load(graphs_asep_path + '3v6o_1P.pt')\n",
    "\n",
    "data\n",
    "# the raw .pt files contain the whole antibody and antigen sequences but not the binding site information\n",
    "# these raw .pt files are processed to only include the surface and CRD residues\n",
    "# then their binding sites (epitope and paratope) are computed based on proximity metrics"
   ]
  },
  {
   "cell_type": "code",
   "execution_count": 71,
   "metadata": {},
   "outputs": [
    {
     "name": "stdout",
     "output_type": "stream",
     "text": [
      "3v6o_1P {'cdr': np.int64(55), 'surf': np.int64(171), 'epitope': np.int64(16), 'epitope2surf_ratio': np.float64(0.093567)}\n",
      "\n",
      "Num of Ab residues:  55 \n",
      "Num of Ag residues:  171\n"
     ]
    }
   ],
   "source": [
    "print(data[\"abdbid\"], data[\"stats\"]) \n",
    "print(\"\\nNum of Ab residues: \", data[\"Nb\"], \"\\nNum of Ag residues: \", data[\"Ng\"])"
   ]
  },
  {
   "cell_type": "code",
   "execution_count": 72,
   "metadata": {},
   "outputs": [
    {
     "data": {
      "text/plain": [
       "{'ab': OrderedDict([('H',\n",
       "               'EVKLLESGPGLVAPSESLSITCTISGFSLTDDGVSWIRQPPGKGLEWLGVIWGGGSTYFNSLFKSRLSITRDNSKSQVFLEMDSLQTDDTAMYYCAKHDGHETMDYWGQGTSVTVSS'),\n",
       "              ('L',\n",
       "               'IVMTQSPKFMSTSIGDRVNITCKATQNVRTAVTWYQQKPGQSPQALIFLASNRHTGVPARFTGSGSGTDFTLTINNVKSEDLADYFCLQHWNYPLTFGSGTKLEIKRAD')]),\n",
       " 'ag': {'a': 'VNINISCETDGYLTKMTCRWSTSTIQSLAESTLQLRYHRSSLYCSDIPSIHPISEPKDCYLQSDGFYECIFQPIFLLSGYTMWIRINHSLGSLDSPPTCVLPDSVVKPLPPSSVKAEITINIGLLKISWEKPVFPENNLQFQIRYGLSGKEVQWKMYEVYDAKSKSVSLPVPDLCAVYAVQVRCKRLDGLGYWSNWSNPAYT'}}"
      ]
     },
     "execution_count": 72,
     "metadata": {},
     "output_type": "execute_result"
    }
   ],
   "source": [
    "data[\"seqres\"]"
   ]
  },
  {
   "cell_type": "code",
   "execution_count": 73,
   "metadata": {},
   "outputs": [
    {
     "name": "stdout",
     "output_type": "stream",
     "text": [
      "117 109\n",
      "total length of Ab residues:  226\n",
      "total length of Ag residues:  202\n"
     ]
    }
   ],
   "source": [
    "print(len(data[\"seqres\"][\"ab\"][\"H\"]), len(data[\"seqres\"][\"ab\"][\"L\"]))\n",
    "print(\"total length of Ab residues: \",  len(data[\"seqres\"][\"ab\"][\"H\"]+data[\"seqres\"][\"ab\"][\"L\"]))\n",
    "print(\"total length of Ag residues: \", len(data[\"seqres\"][\"ag\"][\"a\"]))"
   ]
  },
  {
   "cell_type": "code",
   "execution_count": 74,
   "metadata": {},
   "outputs": [
    {
     "name": "stdout",
     "output_type": "stream",
     "text": [
      "Size of Ab embeddings:  226\n",
      "Size of Ag embeddings:  202\n"
     ]
    }
   ],
   "source": [
    "print(\"Size of Ab embeddings: \", len(data[\"embedding\"][\"ab\"][\"igfold\"]))\n",
    "print(\"Size of Ag embeddings: \", len(data[\"embedding\"][\"ag\"][\"esm2\"]))\n",
    "\n",
    "## the total length of Ag and Ab sequence is higher than the residues participating in binding\n",
    "## hence those residues "
   ]
  },
  {
   "cell_type": "code",
   "execution_count": 75,
   "metadata": {},
   "outputs": [
    {
     "data": {
      "text/plain": [
       "{'ab': tensor(indices=tensor([[ 0,  1,  1,  1,  1,  2,  2,  2,  2,  2,  3,  3,  3,  3,\n",
       "                          3,  3,  3,  4,  4,  4,  4,  4,  4,  5,  5,  5,  5,  5,\n",
       "                          6,  6,  6,  6,  6,  6,  6,  6,  6,  6,  6,  6,  7,  7,\n",
       "                          7,  7,  7,  7,  7,  7,  8,  8,  8,  8,  8,  8,  8,  8,\n",
       "                          9,  9,  9,  9,  9, 10, 10, 10, 10, 10, 10, 10, 10, 10,\n",
       "                         11, 11, 11, 11, 11, 11, 11, 11, 11, 12, 12, 12, 12, 12,\n",
       "                         12, 12, 12, 12, 12, 12, 12, 12, 12, 13, 13, 13, 13, 13,\n",
       "                         13, 13, 13, 13, 14, 14, 14, 14, 14, 15, 15, 15, 15, 15,\n",
       "                         15, 16, 16, 16, 16, 16, 16, 16, 17, 17, 17, 17, 17, 18,\n",
       "                         18, 18, 18, 18, 19, 19, 19, 19, 19, 19, 19, 19, 19, 19,\n",
       "                         19, 19, 19, 20, 20, 20, 20, 20, 20, 20, 21, 21, 21, 21,\n",
       "                         21, 21, 22, 22, 22, 22, 22, 22, 23, 23, 23, 23, 23, 23,\n",
       "                         23, 24, 24, 24, 24, 24, 24, 24, 24, 25, 25, 25, 25, 25,\n",
       "                         25, 25, 26, 26, 26, 26, 26, 26, 27, 27, 27, 27, 28, 28,\n",
       "                         29, 29, 29, 29, 30, 30, 30, 31, 31, 31, 31, 32, 32, 32,\n",
       "                         32, 33, 33, 33, 33, 33, 33, 33, 33, 33, 34, 34, 34, 34,\n",
       "                         34, 35, 35, 35, 35, 35, 35, 36, 36, 36, 36, 36, 36, 36,\n",
       "                         36, 36, 36, 37, 37, 37, 37, 37, 37, 37, 38, 38, 38, 38,\n",
       "                         38, 38, 39, 39, 39, 39, 39, 39, 39, 39, 40, 40, 40, 40,\n",
       "                         40, 41, 41, 41, 41, 42, 42, 42, 42, 42, 43, 43, 43, 43,\n",
       "                         44, 44, 44, 44, 44, 45, 45, 45, 46, 46, 46, 46, 46, 46,\n",
       "                         46, 46, 47, 47, 47, 47, 47, 47, 47, 47, 47, 48, 48, 48,\n",
       "                         48, 48, 48, 48, 48, 48, 48, 48, 48, 49, 49, 49, 49, 49,\n",
       "                         49, 49, 50, 50, 50, 50, 50, 50, 51, 51, 51, 51, 51, 52,\n",
       "                         52, 52, 52, 52, 53, 53, 53, 53, 53, 53, 53, 53, 54, 54,\n",
       "                         54, 54],\n",
       "                        [ 1,  0,  2,  3,  8,  1,  3,  4,  5,  6,  1,  2,  4,  5,\n",
       "                          6,  8, 13,  2,  3,  5,  6, 13, 14,  2,  3,  4,  6, 13,\n",
       "                          2,  3,  4,  5,  7,  8, 11, 12, 13, 19, 20, 21,  6,  8,\n",
       "                          9, 10, 11, 12, 13, 19,  1,  3,  6,  7,  9, 10, 11, 19,\n",
       "                          7,  8, 10, 19, 25,  7,  8,  9, 11, 12, 16, 17, 18, 19,\n",
       "                          6,  7,  8, 10, 12, 13, 15, 16, 17,  6,  7, 10, 11, 13,\n",
       "                         14, 15, 16, 18, 19, 21, 22, 48, 51,  3,  4,  5,  6,  7,\n",
       "                         11, 12, 14, 15,  4, 12, 13, 15, 16, 11, 12, 13, 14, 16,\n",
       "                         17, 10, 11, 12, 14, 15, 17, 18, 10, 11, 15, 16, 18, 10,\n",
       "                         12, 16, 17, 51,  6,  7,  8,  9, 10, 12, 20, 21, 24, 25,\n",
       "                         26, 48, 53,  6, 19, 21, 22, 23, 24, 26,  6, 12, 19, 20,\n",
       "                         22, 23, 12, 20, 21, 23, 24, 48, 20, 21, 22, 24, 38, 39,\n",
       "                         48, 19, 20, 22, 23, 25, 26, 38, 48,  9, 19, 24, 26, 27,\n",
       "                         46, 48, 19, 20, 24, 25, 27, 44, 25, 26, 44, 45, 29, 30,\n",
       "                         28, 30, 31, 33, 28, 29, 31, 29, 30, 32, 33, 31, 33, 34,\n",
       "                         49, 29, 31, 32, 34, 35, 36, 37, 47, 49, 32, 33, 35, 36,\n",
       "                         49, 33, 34, 36, 37, 39, 40, 33, 34, 35, 37, 38, 39, 46,\n",
       "                         47, 48, 49, 33, 35, 36, 38, 39, 40, 46, 23, 24, 36, 37,\n",
       "                         39, 46, 23, 35, 36, 37, 38, 40, 41, 42, 35, 37, 39, 41,\n",
       "                         42, 39, 40, 42, 43, 39, 40, 41, 43, 44, 41, 42, 44, 45,\n",
       "                         26, 27, 42, 43, 45, 27, 43, 44, 25, 36, 37, 38, 47, 48,\n",
       "                         53, 54, 33, 36, 46, 48, 49, 50, 52, 53, 54, 12, 19, 22,\n",
       "                         23, 24, 25, 36, 46, 47, 49, 50, 53, 32, 33, 34, 36, 47,\n",
       "                         48, 50, 47, 48, 49, 51, 52, 53, 12, 18, 50, 52, 53, 47,\n",
       "                         50, 51, 53, 54, 19, 46, 47, 48, 50, 51, 52, 54, 46, 47,\n",
       "                         52, 53]]),\n",
       "        values=tensor([1, 1, 1, 1, 1, 1, 1, 1, 1, 1, 1, 1, 1, 1, 1, 1, 1, 1, 1,\n",
       "                       1, 1, 1, 1, 1, 1, 1, 1, 1, 1, 1, 1, 1, 1, 1, 1, 1, 1, 1,\n",
       "                       1, 1, 1, 1, 1, 1, 1, 1, 1, 1, 1, 1, 1, 1, 1, 1, 1, 1, 1,\n",
       "                       1, 1, 1, 1, 1, 1, 1, 1, 1, 1, 1, 1, 1, 1, 1, 1, 1, 1, 1,\n",
       "                       1, 1, 1, 1, 1, 1, 1, 1, 1, 1, 1, 1, 1, 1, 1, 1, 1, 1, 1,\n",
       "                       1, 1, 1, 1, 1, 1, 1, 1, 1, 1, 1, 1, 1, 1, 1, 1, 1, 1, 1,\n",
       "                       1, 1, 1, 1, 1, 1, 1, 1, 1, 1, 1, 1, 1, 1, 1, 1, 1, 1, 1,\n",
       "                       1, 1, 1, 1, 1, 1, 1, 1, 1, 1, 1, 1, 1, 1, 1, 1, 1, 1, 1,\n",
       "                       1, 1, 1, 1, 1, 1, 1, 1, 1, 1, 1, 1, 1, 1, 1, 1, 1, 1, 1,\n",
       "                       1, 1, 1, 1, 1, 1, 1, 1, 1, 1, 1, 1, 1, 1, 1, 1, 1, 1, 1,\n",
       "                       1, 1, 1, 1, 1, 1, 1, 1, 1, 1, 1, 1, 1, 1, 1, 1, 1, 1, 1,\n",
       "                       1, 1, 1, 1, 1, 1, 1, 1, 1, 1, 1, 1, 1, 1, 1, 1, 1, 1, 1,\n",
       "                       1, 1, 1, 1, 1, 1, 1, 1, 1, 1, 1, 1, 1, 1, 1, 1, 1, 1, 1,\n",
       "                       1, 1, 1, 1, 1, 1, 1, 1, 1, 1, 1, 1, 1, 1, 1, 1, 1, 1, 1,\n",
       "                       1, 1, 1, 1, 1, 1, 1, 1, 1, 1, 1, 1, 1, 1, 1, 1, 1, 1, 1,\n",
       "                       1, 1, 1, 1, 1, 1, 1, 1, 1, 1, 1, 1, 1, 1, 1, 1, 1, 1, 1,\n",
       "                       1, 1, 1, 1, 1, 1, 1, 1, 1, 1, 1, 1, 1, 1, 1, 1, 1, 1, 1,\n",
       "                       1, 1, 1, 1, 1, 1, 1, 1, 1, 1, 1, 1, 1, 1, 1, 1, 1, 1, 1,\n",
       "                       1, 1, 1, 1, 1, 1, 1, 1, 1, 1]),\n",
       "        size=(55, 55), nnz=352, dtype=torch.int8, layout=torch.sparse_coo),\n",
       " 'ag': tensor(indices=tensor([[  0,   0,   0,  ..., 170, 170, 170],\n",
       "                        [  1,   2,  81,  ..., 148, 168, 169]]),\n",
       "        values=tensor([1, 1, 1,  ..., 1, 1, 1]),\n",
       "        size=(171, 171), nnz=1240, dtype=torch.int8, layout=torch.sparse_coo),\n",
       " 'bipartite': tensor(indices=tensor([[ 5,  5,  5,  6,  6, 12, 12, 13, 14, 15, 16, 16, 18, 18,\n",
       "                         20, 20, 21, 22, 22, 22, 22, 22, 23, 23, 23, 23, 23, 23,\n",
       "                         24, 39, 39, 39, 42, 48, 49, 49, 49, 49, 50, 50, 51, 51,\n",
       "                         53],\n",
       "                        [29, 62, 64, 29, 64, 43, 45, 45, 45, 45, 45, 46, 26, 44,\n",
       "                         29, 31, 29, 27, 28, 29, 43, 45, 28, 29, 30, 31, 32, 41,\n",
       "                         31, 30, 31, 32, 32, 43, 40, 41, 42, 43, 42, 43, 42, 43,\n",
       "                         43]]),\n",
       "        values=tensor([1, 1, 1, 1, 1, 1, 1, 1, 1, 1, 1, 1, 1, 1, 1, 1, 1, 1, 1,\n",
       "                       1, 1, 1, 1, 1, 1, 1, 1, 1, 1, 1, 1, 1, 1, 1, 1, 1, 1, 1,\n",
       "                       1, 1, 1, 1, 1]),\n",
       "        size=(55, 171), nnz=43, dtype=torch.int8, layout=torch.sparse_coo)}"
      ]
     },
     "execution_count": 75,
     "metadata": {},
     "output_type": "execute_result"
    }
   ],
   "source": [
    "data[\"edges\"]"
   ]
  },
  {
   "cell_type": "markdown",
   "metadata": {},
   "source": [
    "## create pytorch geometric graph dataset from a processed .pt file  "
   ]
  },
  {
   "cell_type": "code",
   "execution_count": 100,
   "metadata": {},
   "outputs": [
    {
     "name": "stdout",
     "output_type": "stream",
     "text": [
      "Size of the dataset:  asep(1723)\n",
      "PairData(x_b=[55, 20], x_g=[171, 20], edge_index_b=[2, 352], edge_index_g=[2, 1240], abdbid='3v6o_1P', edge_index_bg=[2, 43], y_b=[55], y_g=[171])\n",
      "['y_g', 'edge_index_b', 'edge_index_bg', 'edge_index_g', 'x_g', 'x_b', 'abdbid', 'y_b']\n"
     ]
    },
    {
     "name": "stderr",
     "output_type": "stream",
     "text": [
      "/Users/mansoor/Documents/GSU/Projects/Antibody-Design/epitope-prediction/walle-pp/asepcode/asep/data/asepv1_dataset.py:104: FutureWarning: You are using `torch.load` with `weights_only=False` (the current default value), which uses the default pickle module implicitly. It is possible to construct malicious pickle data which will execute arbitrary code during unpickling (See https://github.com/pytorch/pytorch/blob/main/SECURITY.md#untrusted-models for more details). In a future release, the default value for `weights_only` will be flipped to `True`. This limits the functions that could be executed during unpickling. Arbitrary objects will no longer be allowed to be loaded via this mode unless they are explicitly allowlisted by the user via `torch.serialization.add_safe_globals`. We recommend you start setting `weights_only=True` for any use case where you don't have full control of the loaded file. Please open an issue on GitHub for any issues related to this experimental feature.\n",
      "  self.data, self.slices = torch.load(self.processed_paths[0])\n"
     ]
    }
   ],
   "source": [
    "from asep.data.asepv1_dataset import AsEPv1Dataset, EmbeddingConfig\n",
    "\n",
    "# one-hot encoding\n",
    "config = EmbeddingConfig(node_feat_type=\"one_hot\")\n",
    "asepv1_dataset = AsEPv1Dataset(\n",
    "    root=\"~/Documents/GSU/Projects/Antibody-Design/epitope-prediction/data\",  # replace with the path to the parent folder of downloaded AsEP\n",
    "    name=\"asep\",\n",
    "    embedding_config=config,\n",
    ")\n",
    "print(\"Size of the dataset: \", asepv1_dataset)\n",
    "i = 0\n",
    "graph_pair = asepv1_dataset[i]\n",
    "print(graph_pair)\n",
    "print(graph_pair.keys())"
   ]
  },
  {
   "cell_type": "code",
   "execution_count": 77,
   "metadata": {},
   "outputs": [
    {
     "data": {
      "text/plain": [
       "tensor([[ 5,  5,  5,  6,  6, 12, 12, 13, 14, 15, 16, 16, 18, 18, 20, 20, 21, 22,\n",
       "         22, 22, 22, 22, 23, 23, 23, 23, 23, 23, 24, 39, 39, 39, 42, 48, 49, 49,\n",
       "         49, 49, 50, 50, 51, 51, 53],\n",
       "        [29, 62, 64, 29, 64, 43, 45, 45, 45, 45, 45, 46, 26, 44, 29, 31, 29, 27,\n",
       "         28, 29, 43, 45, 28, 29, 30, 31, 32, 41, 31, 30, 31, 32, 32, 43, 40, 41,\n",
       "         42, 43, 42, 43, 42, 43, 43]])"
      ]
     },
     "execution_count": 77,
     "metadata": {},
     "output_type": "execute_result"
    }
   ],
   "source": [
    "graph_pair.edge_index_bg\n",
    "## each column represents an edge between Va and Vb\n"
   ]
  },
  {
   "cell_type": "code",
   "execution_count": 78,
   "metadata": {},
   "outputs": [
    {
     "name": "stdout",
     "output_type": "stream",
     "text": [
      "Id 3v6o_1P\n",
      "Ab binding interface:  55 tensor([0, 0, 0, 0, 0, 1, 1, 0, 0, 0, 0, 0, 1, 1, 1, 1, 1, 0, 1, 0, 1, 1, 1, 1,\n",
      "        1, 0, 0, 0, 0, 0, 0, 0, 0, 0, 0, 0, 0, 0, 0, 1, 0, 0, 1, 0, 0, 0, 0, 0,\n",
      "        1, 1, 1, 1, 0, 1, 0])\n",
      "Epitope:  171 tensor([0, 0, 0, 0, 0, 0, 0, 0, 0, 0, 0, 0, 0, 0, 0, 0, 0, 0, 0, 0, 0, 0, 0, 0,\n",
      "        0, 0, 1, 1, 1, 1, 1, 1, 1, 0, 0, 0, 0, 0, 0, 0, 1, 1, 1, 1, 1, 1, 1, 0,\n",
      "        0, 0, 0, 0, 0, 0, 0, 0, 0, 0, 0, 0, 0, 0, 1, 0, 1, 0, 0, 0, 0, 0, 0, 0,\n",
      "        0, 0, 0, 0, 0, 0, 0, 0, 0, 0, 0, 0, 0, 0, 0, 0, 0, 0, 0, 0, 0, 0, 0, 0,\n",
      "        0, 0, 0, 0, 0, 0, 0, 0, 0, 0, 0, 0, 0, 0, 0, 0, 0, 0, 0, 0, 0, 0, 0, 0,\n",
      "        0, 0, 0, 0, 0, 0, 0, 0, 0, 0, 0, 0, 0, 0, 0, 0, 0, 0, 0, 0, 0, 0, 0, 0,\n",
      "        0, 0, 0, 0, 0, 0, 0, 0, 0, 0, 0, 0, 0, 0, 0, 0, 0, 0, 0, 0, 0, 0, 0, 0,\n",
      "        0, 0, 0])\n",
      "size of epitope: 16\n"
     ]
    }
   ],
   "source": [
    "node_labels_b = graph_pair.y_b  # antibody graph node labels (1 => interface nodes)\n",
    "node_labels_g = graph_pair.y_g  # antigen  graph node labels (1 => interface nodes)\n",
    "print(\"Id\", graph_pair.abdbid)\n",
    "print(\"Ab binding interface: \", len(node_labels_b), node_labels_b)\n",
    "print(\"Epitope: \", len(node_labels_g), node_labels_g)\n",
    "print(\"size of epitope:\", node_labels_g.count_nonzero().item())"
   ]
  },
  {
   "cell_type": "markdown",
   "metadata": {},
   "source": [
    "## create ab-ag sequence data from the one-hot encodings"
   ]
  },
  {
   "cell_type": "code",
   "execution_count": null,
   "metadata": {},
   "outputs": [],
   "source": [
    "def convert_one_hot_to_seq(one_hot_mapping):\n",
    "    # Define the mapping of one-hot indices to amino acid labels\n",
    "    amino_acids = \"ACDEFGHIKLMNPQRSTVWY\"\n",
    "\n",
    "    # Convert one-hot encoded vectors to label sequence\n",
    "    sequence = [amino_acids[np.argmax(vec)] for vec in one_hot_mapping]\n",
    "\n",
    "    # Join the list into a string if you want a single sequence string\n",
    "    return ''.join(sequence)\n"
   ]
  },
  {
   "cell_type": "code",
   "execution_count": 156,
   "metadata": {},
   "outputs": [
    {
     "data": {
      "text/plain": [
       "array([{'abdbid': '3v6o_1P', 'ab_ag': 'GFSLTDDGVSVIWGGGSTYHDGHETMDYKATQNVRTAVTLASNRHTLQHWNYPLTVNINISCEDGYLTKTRWSTSTSTLQLRYHRSSLYCSDIPSIHPISEPKDCYLQSDGFYEIFQPIFLLSYTMRINHSLGSLDSPPTCVLDSVVKPLPPSSVKAEITINIGLKSWENNLQFQRYGLSGKEVQWKMYEVSVSLPVPDLCAVYAQRCKRLDGLGYWSNWSNPAYT', 'labels': 226},\n",
       "       {'abdbid': '1s78_0P', 'ab_ag': 'GFTFTDYTMDDVNPNSGGSINLGPSFYFDYKASQDVSIGVASASYRYTQQYYIYPYTTQVCTGTDMKLRLPASPETHLDRHLQGQVQGNYPTNASLSFLQDIQEQYVIHNQVRQVPLQRLRIVRTQLFEDNYLLDGDPLSPGLRELQLRSLTLKLQRNPQCYQDTILWKDFHKNNQLALTLIDTNRSRACHPCSPMCKGSRWESSECQSLTRTVCAGGCARCKGPLPTDCCHEQCGCTGPKHSDCLACLHFNHSGICELHCPALVTYNTDTFESMPNPEGRYTFGASCVTACPYNYSTDVGSCTLVCPLHNQEVTAEDGTQRCEKCSKPCARVCYLGMEHLREVRATSANIQEFAGCKKIFSALPESFDGDPASNTAPLQPEQQVFETLEETYYSAWPDSLPDSVQNQVRGRILHNGAYTQGLGISWRSLREGSGLLHHTHLCFVHTVPWDQLFRNPHQALLHTANRPEDECVGEGLACHQLCARGHWPGPTQCVNCSQFLRGQECVEECRVLQGLPREYVNARHCLPCHPECQPQNGSVTCFGPEADQCVA', 'labels': 552},\n",
       "       {'abdbid': '7mzg_0P', 'ab_ag': 'GLTVSSNYMSVFYPGGSTYDAVYYGMDVRASQSISSYLNAASSLQSQESYSTPGLFTNLCPFGEVFNATRFASYAWNRKRISNCVDYSVLYNSASFSTFKCYGVSPTKLNDLCFTNYASRGDEVRQIAPGQTGKADYNYKLPDDFTVWNSNNLDSKGNYNYLYRLFRKSNLKPFERDISTEIYQAGSTPCNGVEGFNCYFPLQSYGFQPTNGVGYQPYRLSFELLHAPATCGPGS', 'labels': 235},\n",
       "       ...,\n",
       "       {'abdbid': '5gzo_1P', 'ab_ag': 'GGSISSSNWWSEIYHSGSTNDRDDLSPFDYRASQGIRNDLGAASSLQSLQHNSYPRTIRCIGVSNRDFVEGMSGGTWVDVVLEHGGCVMAQDKPTVELVTTTSNMAEVRYYEASISDMASDSRCPTQGEAYLDKQSDTQYVCKRTLVDRGWGNGCGLFGKSAKFACSKKTKSIQPENLEYRMLVHGSENRAKVETPNSPRAEATGGFGSLGLDEPRTGLDFSDLYTNNKHWLVHKEWHDIPLWHAGADTGTPHWNNKEALVEFKDAHAKRQTVVVLGSQEGAVHTALAGALEAEMDGAKRLSSGHKCRKMDKLRLKGVSYSLCTAAFTFTKIPAETLHGTTVEVQYAGTDGPKVPAQMVDMQTLTPVGRLTANPVITESTENSKMMLEDPPFGDSYVGVGEKKITHHWHRSGS', 'labels': 413},\n",
       "       {'abdbid': '3r08_0P', 'ab_ag': 'GFTFSGYGMHYITSSSINIKFDWDKNYQASQDISNYLNYTNKLADQQYYNYPWTDDAENIEYKVSISGTSVETCPLDSDENKWEKNGQELPQKHDKHLVLQDFSEVEDSGYYVYTPASNKNTYLYLKARVSEY', 'labels': 133},\n",
       "       {'abdbid': '5w9k_2P', 'ab_ag': 'GYTFTDYAIHVFSTYYGNTNKSYYVDYVDAMDYRASESVDNYGISFMNATSNQGSQQSKEVPRTEMRLASIAFNHPIQVDQLNSSYFKLSIPTNFSFGVTQEYIQTTIQKVTVDCKQYVCNGFQKCEQLLREYGQFCSKINQALHGANLRQDDSVRNLFASVKSSQSSPIIPGFGGDFNLTLLEPVARSAIEDLLFDKVTIADPGYMQGYDDCMQQGPASARDLICAQYVAGYKVLPPLMDVNMEAAYTSSLLGSIAGVGWTAGLSSFAAIPFAQSIFYRLNGVGITQQVLSENQKLIANKFNQALGAMQTGFTTTNEAFHKVQDAVNNNAQALSKLASELSNTFGAISASIGDIIQRLDPPEQDAQDRINGRLTTLNAFVAQQLVRSESAALSAQLKDKVNECVKAQSKRSGFCGQGTHIVFVVNAPNGLYMHVGYYPSNHIEVVAYLCDAANPTNCIAPVNGYKTNNTRIVDEWYGSSFYAPEPITSLNTKYVAPQVTYQNISTNLPPPLL', 'labels': 513}],\n",
       "      shape=(1723,), dtype=object)"
      ]
     },
     "execution_count": 156,
     "metadata": {},
     "output_type": "execute_result"
    }
   ],
   "source": [
    "np.load(asep_data_dir + \"ab_ag_paired_sequence_data.npy\", allow_pickle=True)"
   ]
  },
  {
   "cell_type": "code",
   "execution_count": 154,
   "metadata": {},
   "outputs": [],
   "source": [
    "ab_ag_sequence_data = []\n",
    "ab_sequence_data = []\n",
    "ag_sequence_data = []\n",
    "ab_ag_paired_sequence_data = []\n",
    "\n",
    "for i in range(len(asepv1_dataset)):\n",
    "    ab_seq = convert_one_hot_to_seq(asepv1_dataset[i].x_b)\n",
    "    ag_seq = convert_one_hot_to_seq(asepv1_dataset[i].x_g)\n",
    "    ab_sequence = {'abdbid': asepv1_dataset[i].abdbid,\n",
    "            'ab_seqres': ab_seq,\n",
    "            \"paratope\": asepv1_dataset[i].y_b.numpy()}\n",
    "    ag_sequence = {'abdbid': asepv1_dataset[i].abdbid,\n",
    "            'ag_seqres': ag_seq,\n",
    "            \"epitope\": asepv1_dataset[i].y_g.numpy()}\n",
    "    ab_ag_pair_sequence = {'abdbid': asepv1_dataset[i].abdbid,\n",
    "            'ab_ag_seqres': ab_seq + ag_seq,\n",
    "            'labels': np.concat((asepv1_dataset[i].y_b.numpy(), asepv1_dataset[i].y_g.numpy()))}\n",
    "    ab_ag_sequence = {'abdbid': asepv1_dataset[i].abdbid,\n",
    "            'seqres': {'ab': ab_seq,\n",
    "            'ag': ag_seq},\n",
    "            'labels': {\"paratope\": asepv1_dataset[i].y_b.numpy(),\n",
    "                        \"epitope\": asepv1_dataset[i].y_g.numpy(),\n",
    "                        \"edge_index_ab_ag\": asepv1_dataset[i].edge_index_bg.numpy()}}\n",
    "    \n",
    "    ab_ag_sequence_data.append(ab_ag_sequence)\n",
    "    ab_sequence_data.append(ab_sequence)\n",
    "    ag_sequence_data.append(ag_sequence)\n",
    "    ab_ag_paired_sequence_data.append(ab_ag_pair_sequence)\n",
    "\n",
    "\n",
    "np.save( asep_data_dir + \"sequences/\" + \"ab_ag_sequence_data.npy\", ab_ag_sequence_data)\n",
    "np.save( asep_data_dir + \"sequences/\" + \"ab_sequence_data.npy\", ab_sequence_data)\n",
    "np.save( asep_data_dir + \"sequences/\" + \"ag_sequence_data.npy\", ag_sequence_data)\n",
    "np.save( asep_data_dir + \"sequences/\" + \"ab_ag_paired_sequence_data.npy\", ab_ag_paired_sequence_data)\n"
   ]
  },
  {
   "cell_type": "code",
   "execution_count": null,
   "metadata": {},
   "outputs": [
    {
     "data": {
      "text/plain": [
       "{'abdbid': '3v6o_1P',\n",
       " 'seqres': {'ab': 'GFSLTDDGVSVIWGGGSTYHDGHETMDYKATQNVRTAVTLASNRHTLQHWNYPLT',\n",
       "  'ag': 'VNINISCEDGYLTKTRWSTSTSTLQLRYHRSSLYCSDIPSIHPISEPKDCYLQSDGFYEIFQPIFLLSYTMRINHSLGSLDSPPTCVLDSVVKPLPPSSVKAEITINIGLKSWENNLQFQRYGLSGKEVQWKMYEVSVSLPVPDLCAVYAQRCKRLDGLGYWSNWSNPAYT'},\n",
       " 'labels': {'paratope': array([0, 0, 0, 0, 0, 1, 1, 0, 0, 0, 0, 0, 1, 1, 1, 1, 1, 0, 1, 0, 1, 1,\n",
       "         1, 1, 1, 0, 0, 0, 0, 0, 0, 0, 0, 0, 0, 0, 0, 0, 0, 1, 0, 0, 1, 0,\n",
       "         0, 0, 0, 0, 1, 1, 1, 1, 0, 1, 0]),\n",
       "  'epitope': array([0, 0, 0, 0, 0, 0, 0, 0, 0, 0, 0, 0, 0, 0, 0, 0, 0, 0, 0, 0, 0, 0,\n",
       "         0, 0, 0, 0, 1, 1, 1, 1, 1, 1, 1, 0, 0, 0, 0, 0, 0, 0, 1, 1, 1, 1,\n",
       "         1, 1, 1, 0, 0, 0, 0, 0, 0, 0, 0, 0, 0, 0, 0, 0, 0, 0, 1, 0, 1, 0,\n",
       "         0, 0, 0, 0, 0, 0, 0, 0, 0, 0, 0, 0, 0, 0, 0, 0, 0, 0, 0, 0, 0, 0,\n",
       "         0, 0, 0, 0, 0, 0, 0, 0, 0, 0, 0, 0, 0, 0, 0, 0, 0, 0, 0, 0, 0, 0,\n",
       "         0, 0, 0, 0, 0, 0, 0, 0, 0, 0, 0, 0, 0, 0, 0, 0, 0, 0, 0, 0, 0, 0,\n",
       "         0, 0, 0, 0, 0, 0, 0, 0, 0, 0, 0, 0, 0, 0, 0, 0, 0, 0, 0, 0, 0, 0,\n",
       "         0, 0, 0, 0, 0, 0, 0, 0, 0, 0, 0, 0, 0, 0, 0, 0, 0]),\n",
       "  'edge_index_ab_ag': array([[ 5,  5,  5,  6,  6, 12, 12, 13, 14, 15, 16, 16, 18, 18, 20, 20,\n",
       "          21, 22, 22, 22, 22, 22, 23, 23, 23, 23, 23, 23, 24, 39, 39, 39,\n",
       "          42, 48, 49, 49, 49, 49, 50, 50, 51, 51, 53],\n",
       "         [29, 62, 64, 29, 64, 43, 45, 45, 45, 45, 45, 46, 26, 44, 29, 31,\n",
       "          29, 27, 28, 29, 43, 45, 28, 29, 30, 31, 32, 41, 31, 30, 31, 32,\n",
       "          32, 43, 40, 41, 42, 43, 42, 43, 42, 43, 43]])}}"
      ]
     },
     "metadata": {},
     "output_type": "display_data"
    }
   ],
   "source": [
    "ab_ag_sequence_data[0]"
   ]
  },
  {
   "cell_type": "code",
   "execution_count": 146,
   "metadata": {},
   "outputs": [
    {
     "data": {
      "text/plain": [
       "np.int64(1)"
      ]
     },
     "execution_count": 146,
     "metadata": {},
     "output_type": "execute_result"
    }
   ],
   "source": [
    "ab_ag_sequence_data[0][\"labels\"][\"epitope\"][27]"
   ]
  },
  {
   "cell_type": "markdown",
   "metadata": {},
   "source": [
    "## calculate dataset statistics"
   ]
  },
  {
   "cell_type": "code",
   "execution_count": 79,
   "metadata": {},
   "outputs": [],
   "source": [
    "size_ab_residues = []\n",
    "size_ag_residues = []\n",
    "size_epitopes = []\n",
    "size_edge_index_bipartite_graph = [] # a 2xn vector where each column represents an edge in the bipartite adjacency matrix\n",
    "\n",
    "for i in range(len(asepv1_dataset)):\n",
    "    size_ab_residues.append(len(asepv1_dataset[i].y_b))\n",
    "    size_ag_residues.append(len(asepv1_dataset[i].y_g))\n",
    "    size_epitopes.append(asepv1_dataset[i].y_b.count_nonzero().item())\n",
    "    size_edge_index_bipartite_graph.append(asepv1_dataset[i].edge_index_bg.shape[1])\n",
    "\n",
    "mean_ab_residues = np.mean(size_ab_residues)\n",
    "std_ab_residues = np.std(size_ab_residues)\n",
    "mean_ag_residues = np.mean(size_ag_residues)\n",
    "std_ag_residues = np.std(size_ag_residues)\n",
    "mean_epitopes = np.mean(size_epitopes)\n",
    "std_epitopes = np.std(size_epitopes)\n",
    "mean_edge_index_bipartite_graph = np.mean(size_edge_index_bipartite_graph)\n",
    "std_edge_index_bipartite_graph = np.std(size_edge_index_bipartite_graph)"
   ]
  },
  {
   "cell_type": "code",
   "execution_count": 80,
   "metadata": {},
   "outputs": [
    {
     "data": {
      "image/png": "[encoded data removed]",
      "text/plain": [
       "<Figure size 2000x500 with 4 Axes>"
      ]
     },
     "metadata": {},
     "output_type": "display_data"
    }
   ],
   "source": [
    "# Create the plot\n",
    "fig, axes = plt.subplots(1, 4, figsize=(20, 5))\n",
    "\n",
    "# Plot for size_ab_residues\n",
    "sns.histplot(size_ab_residues, bins=20, kde=False, color='blue', alpha=0.6, ax=axes[0], stat=\"density\")\n",
    "x_ab = np.linspace(mean_ab_residues - 4*std_ab_residues, mean_ab_residues + 4*std_ab_residues, 1000)\n",
    "pdf_ab = norm.pdf(x_ab, mean_ab_residues, std_ab_residues)\n",
    "axes[0].plot(x_ab, pdf_ab, color='blue', linestyle='--', linewidth=2,\n",
    "             label=f\"$\\mu$={mean_ab_residues:.1f}, $\\sigma$={std_ab_residues:.1f}\")\n",
    "axes[0].set_title(f'Antibody CDR Residues', fontsize=22, fontweight=\"bold\")\n",
    "axes[0].set_xlabel('Size', fontsize=20,fontweight=\"bold\")\n",
    "axes[0].set_ylabel('Density', fontsize=20,fontweight=\"bold\")\n",
    "axes[0].legend(fontsize=20)\n",
    "axes[0].xaxis.set_tick_params(labelsize=20)\n",
    "axes[0].yaxis.set_tick_params(labelsize=20)\n",
    "\n",
    "# Plot for size_ag_residues\n",
    "sns.histplot(size_ag_residues, bins=20, kde=False, color='green', alpha=0.6, ax=axes[1], stat=\"density\")\n",
    "x_ag = np.linspace(mean_ag_residues - 4*std_ag_residues, mean_ag_residues + 4*std_ag_residues, 1000)\n",
    "pdf_ag = norm.pdf(x_ag, mean_ag_residues, std_ag_residues)\n",
    "axes[1].plot(x_ag, pdf_ag, color='green', linestyle='--', linewidth=2,\n",
    "             label=f\"$\\mu$={mean_ag_residues:.1f}, $\\sigma$={std_ag_residues:.1f}\")\n",
    "axes[1].set_title(f'Antigen Surface Residues',fontsize=22, fontweight=\"bold\")\n",
    "axes[1].set_xlabel('Size', fontsize=20, fontweight=\"bold\")\n",
    "axes[1].set_ylabel('')\n",
    "axes[1].legend(fontsize=20)\n",
    "axes[1].xaxis.set_tick_params(labelsize=20)\n",
    "axes[1].yaxis.set_tick_params(labelsize=20)\n",
    "\n",
    "# Plot for size_epitopes\n",
    "sns.histplot(size_epitopes, bins=20, kde=False, color='red', alpha=0.6, ax=axes[2], stat=\"density\")\n",
    "x_epitopes = np.linspace(mean_epitopes - 4*std_epitopes, mean_epitopes + 4*std_epitopes, 1000)\n",
    "pdf_epitopes = norm.pdf(x_epitopes, mean_epitopes, std_epitopes)\n",
    "axes[2].plot(x_epitopes, pdf_epitopes, color='red', linestyle='--', linewidth=2,\n",
    "             label=f\"$\\mu$={mean_epitopes:.1f}, $\\sigma$={std_epitopes:.1f}\")\n",
    "axes[2].set_title(f'Epitope Residues', fontsize=22, fontweight=\"bold\")\n",
    "axes[2].set_xlabel('Size', fontsize=20, fontweight=\"bold\")\n",
    "axes[2].set_ylabel('')\n",
    "axes[2].legend(fontsize=20)\n",
    "axes[2].xaxis.set_tick_params(labelsize=20)\n",
    "axes[2].yaxis.set_tick_params(labelsize=20)\n",
    "\n",
    "# Plot for size_edge_index_bipartite_graph\n",
    "sns.histplot(size_edge_index_bipartite_graph, bins=20, kde=False, color='purple', alpha=0.6, ax=axes[3], stat=\"density\")\n",
    "x_edge = np.linspace(mean_edge_index_bipartite_graph - 4*std_edge_index_bipartite_graph, mean_edge_index_bipartite_graph + 4*std_edge_index_bipartite_graph, 1000)\n",
    "pdf_edge = norm.pdf(x_edge, mean_edge_index_bipartite_graph, std_edge_index_bipartite_graph)\n",
    "axes[3].plot(x_edge, pdf_edge, color='purple', linestyle='--', linewidth=2,\n",
    "             label=f\"$\\mu$={mean_edge_index_bipartite_graph:.1f}, $\\sigma$={std_edge_index_bipartite_graph:.1f}\")\n",
    "axes[3].set_title(f'Bipartite Graph Edges', fontsize=22, fontweight=\"bold\")\n",
    "axes[3].set_xlabel('Size', fontsize=20, fontweight=\"bold\")\n",
    "axes[3].set_ylabel('')\n",
    "axes[3].legend(fontsize=20)\n",
    "axes[3].xaxis.set_tick_params(labelsize=20)\n",
    "axes[3].yaxis.set_tick_params(labelsize=20)\n",
    "\n",
    "\n",
    "# Adjust layout\n",
    "plt.tight_layout()\n",
    "plt.savefig(figures+\"ab_ag_residue_density_plots.png\")\n",
    "# Show the plot\n",
    "plt.show()"
   ]
  },
  {
   "cell_type": "markdown",
   "metadata": {},
   "source": [
    "## pre-calculated embeddings with AntiBERTy and ESM2"
   ]
  },
  {
   "cell_type": "code",
   "execution_count": 81,
   "metadata": {},
   "outputs": [
    {
     "name": "stderr",
     "output_type": "stream",
     "text": [
      "/Users/mansoor/Documents/GSU/Projects/Antibody-Design/epitope-prediction/walle-pp/asepcode/asep/data/asepv1_dataset.py:106: FutureWarning: You are using `torch.load` with `weights_only=False` (the current default value), which uses the default pickle module implicitly. It is possible to construct malicious pickle data which will execute arbitrary code during unpickling (See https://github.com/pytorch/pytorch/blob/main/SECURITY.md#untrusted-models for more details). In a future release, the default value for `weights_only` will be flipped to `True`. This limits the functions that could be executed during unpickling. Arbitrary objects will no longer be allowed to be loaded via this mode unless they are explicitly allowlisted by the user via `torch.serialization.add_safe_globals`. We recommend you start setting `weights_only=True` for any use case where you don't have full control of the loaded file. Please open an issue on GitHub for any issues related to this experimental feature.\n",
      "  self.data, self.slices = torch.load(self.processed_paths[1])\n"
     ]
    },
    {
     "name": "stdout",
     "output_type": "stream",
     "text": [
      "PairData(x_b=[55, 480], x_g=[171, 480], edge_index_b=[2, 352], edge_index_g=[2, 1240], abdbid='3v6o_1P', edge_index_bg=[2, 43], y_b=[55], y_g=[171])\n",
      "['y_g', 'edge_index_b', 'edge_index_bg', 'edge_index_g', 'x_g', 'x_b', 'abdbid', 'y_b']\n"
     ]
    }
   ],
   "source": [
    "config = EmbeddingConfig(\n",
    "    node_feat_type='pre_cal',\n",
    "    ab={\"embedding_model\": \"igfold\"},  # change this \"esm2\" for ESM2 embeddings\n",
    "    ag={\"embedding_model\": \"esm2\"},\n",
    ")\n",
    "asepv1_dataset = AsEPv1Dataset(\n",
    "    root=\"~/Documents/GSU/Projects/Antibody-Design/epitope-prediction/data\",  # replace with the path to the parent folder of downloaded AsEP\n",
    "    name=\"asep\",\n",
    "    embedding_config=config,\n",
    ")\n",
    "\n",
    "# get i-th graph pair and node labels\n",
    "i = 0\n",
    "graph_pair = asepv1_dataset[i]\n",
    "print(graph_pair)\n",
    "print(graph_pair.keys())"
   ]
  },
  {
   "cell_type": "code",
   "execution_count": 82,
   "metadata": {},
   "outputs": [
    {
     "name": "stdout",
     "output_type": "stream",
     "text": [
      "Id 3v6o_1P\n",
      "Ab binding interface:  55 tensor([0, 0, 0, 0, 0, 1, 1, 0, 0, 0, 0, 0, 1, 1, 1, 1, 1, 0, 1, 0, 1, 1, 1, 1,\n",
      "        1, 0, 0, 0, 0, 0, 0, 0, 0, 0, 0, 0, 0, 0, 0, 1, 0, 0, 1, 0, 0, 0, 0, 0,\n",
      "        1, 1, 1, 1, 0, 1, 0])\n",
      "Epitope labels ###### \n",
      " 171 tensor([0, 0, 0, 0, 0, 0, 0, 0, 0, 0, 0, 0, 0, 0, 0, 0, 0, 0, 0, 0, 0, 0, 0, 0,\n",
      "        0, 0, 1, 1, 1, 1, 1, 1, 1, 0, 0, 0, 0, 0, 0, 0, 1, 1, 1, 1, 1, 1, 1, 0,\n",
      "        0, 0, 0, 0, 0, 0, 0, 0, 0, 0, 0, 0, 0, 0, 1, 0, 1, 0, 0, 0, 0, 0, 0, 0,\n",
      "        0, 0, 0, 0, 0, 0, 0, 0, 0, 0, 0, 0, 0, 0, 0, 0, 0, 0, 0, 0, 0, 0, 0, 0,\n",
      "        0, 0, 0, 0, 0, 0, 0, 0, 0, 0, 0, 0, 0, 0, 0, 0, 0, 0, 0, 0, 0, 0, 0, 0,\n",
      "        0, 0, 0, 0, 0, 0, 0, 0, 0, 0, 0, 0, 0, 0, 0, 0, 0, 0, 0, 0, 0, 0, 0, 0,\n",
      "        0, 0, 0, 0, 0, 0, 0, 0, 0, 0, 0, 0, 0, 0, 0, 0, 0, 0, 0, 0, 0, 0, 0, 0,\n",
      "        0, 0, 0])\n"
     ]
    }
   ],
   "source": [
    "node_labels_b = graph_pair.y_b  # antibody graph node labels (1 => interface nodes)\n",
    "node_labels_g = graph_pair.y_g  # antigen  graph node labels (1 => interface nodes)\n",
    "\n",
    "# bipartite graph edges\n",
    "edge_index_bg = graph_pair.edge_index_bg  # bipartite graph edge indices between the antibody and antigen graphs of shape (2, E), \n",
    "# 1st col is antibody node indices, 2nd col is antigen node indices\n",
    "print(\"Id\", graph_pair.abdbid)\n",
    "print(\"Ab binding interface: \", len(node_labels_b), node_labels_b)\n",
    "print(\"Epitope labels ###### \\n\", len(node_labels_g), node_labels_g)"
   ]
  },
  {
   "cell_type": "code",
   "execution_count": 83,
   "metadata": {},
   "outputs": [
    {
     "data": {
      "text/plain": [
       "tensor([[-0.0494,  0.2570, -0.1748,  ...,  0.0229,  0.0302,  0.0372],\n",
       "        [-0.1798,  0.1503, -0.0977,  ..., -0.0505, -0.1716,  0.3962],\n",
       "        [-0.2333,  0.4711,  0.0056,  ..., -0.0670, -0.0222,  0.2326],\n",
       "        ...,\n",
       "        [-0.2874,  0.1633, -0.1094,  ..., -0.2224, -0.2050, -0.0485],\n",
       "        [-0.1147, -0.0405, -0.0711,  ...,  0.3204, -0.1027, -0.3958],\n",
       "        [-0.2087, -0.0269, -0.0678,  ...,  0.2154, -0.1626, -0.0872]])"
      ]
     },
     "execution_count": 83,
     "metadata": {},
     "output_type": "execute_result"
    }
   ],
   "source": [
    "#### precomputed embeddings for antibodies and antigens (Nx480) ###\n",
    "graph_pair.x_b"
   ]
  },
  {
   "cell_type": "code",
   "execution_count": 84,
   "metadata": {},
   "outputs": [
    {
     "data": {
      "text/plain": [
       "tensor([[ 0.0422,  0.1868,  0.1037,  ..., -0.3361,  0.2375, -0.0871],\n",
       "        [ 0.1922,  0.2044, -0.2248,  ..., -0.0742, -0.1183,  0.0206],\n",
       "        [-0.0583,  0.1024,  0.1340,  ..., -0.1096,  0.2122,  0.0389],\n",
       "        ...,\n",
       "        [ 0.3726,  0.4016,  0.2646,  ..., -0.1940, -0.1093, -0.0407],\n",
       "        [ 0.3042, -0.0193,  0.3107,  ...,  0.0565,  0.3138,  0.3278],\n",
       "        [ 0.0657, -0.3205,  0.4422,  ...,  0.0898, -0.1690,  0.0485]])"
      ]
     },
     "execution_count": 84,
     "metadata": {},
     "output_type": "execute_result"
    }
   ],
   "source": [
    "graph_pair.x_g"
   ]
  },
  {
   "cell_type": "markdown",
   "metadata": {},
   "source": [
    "## view and analyze the pdb files "
   ]
  },
  {
   "cell_type": "code",
   "execution_count": 85,
   "metadata": {},
   "outputs": [],
   "source": [
    "proj_dir = \"/Users/mansoor/Documents/GSU/Projects/Antibody-Design/epitope-prediction/\"\n",
    "dataset_dir = os.path.join(proj_dir, \"data/\")\n",
    "structures_asep_path = asep_data_dir + \"structures/\"\n",
    "\n",
    "pdb_file_path = structures_asep_path + \"7lr3_1P.pdb\"  "
   ]
  },
  {
   "cell_type": "code",
   "execution_count": 86,
   "metadata": {},
   "outputs": [],
   "source": [
    "# from Bio.PDB import PDBParser\n",
    "# from biopandas.pdb import PandasPdb\n",
    "# from prody import parsePDBHeader\n",
    "# from typing import Optional\n",
    "\n",
    "# # Parse the PDB file using BioPython\n",
    "# parser = PDBParser()\n",
    "# pdb_structure = parser.get_structure(\"pdb_structure\", pdb_file_path)\n",
    "# pdb_model = pdb_structure[0]\n",
    "\n",
    "# # If a specific chain ID is provided, extract embeddings for that chain\n",
    "# # Extract embeddings for all chains\n",
    "# chain_ids = [chain.get_id() for chain in pdb_model]\n",
    "# chain_ids"
   ]
  },
  {
   "cell_type": "code",
   "execution_count": 87,
   "metadata": {},
   "outputs": [],
   "source": [
    "# def read_pdb_to_dataframe(\n",
    "#     pdb_path: Optional[str] = None,\n",
    "#     model_index: int = 1,\n",
    "#     parse_header: bool = True,\n",
    "#     ) -> pd.DataFrame:\n",
    "#     \"\"\"\n",
    "#     Read a PDB file, and return a Pandas DataFrame containing the atomic coordinates and metadata.\n",
    "\n",
    "#     Args:\n",
    "#         pdb_path (str, optional): Path to a local PDB file to read. Defaults to None.\n",
    "#         model_index (int, optional): Index of the model to extract from the PDB file, in case\n",
    "#             it contains multiple models. Defaults to 1.\n",
    "#         parse_header (bool, optional): Whether to parse the PDB header and extract metadata.\n",
    "#             Defaults to True.\n",
    "\n",
    "#     Returns:\n",
    "#         pd.DataFrame: A DataFrame containing the atomic coordinates and metadata, with one row\n",
    "#             per atom\n",
    "#     \"\"\"\n",
    "#     atomic_df = PandasPdb().read_pdb(pdb_path)\n",
    "#     if parse_header:\n",
    "#         header = parsePDBHeader(pdb_path)\n",
    "#     else:\n",
    "#         header = None\n",
    "#     atomic_df = atomic_df.get_model(model_index)\n",
    "#     if len(atomic_df.df[\"ATOM\"]) == 0:\n",
    "#         raise ValueError(f\"No model found for index: {model_index}\")\n",
    "\n",
    "#     return pd.concat([atomic_df.df[\"ATOM\"], atomic_df.df[\"HETATM\"]]), header"
   ]
  },
  {
   "cell_type": "code",
   "execution_count": 88,
   "metadata": {},
   "outputs": [],
   "source": [
    "# df, df_header = read_pdb_to_dataframe(pdb_file_path)\n",
    "# df"
   ]
  },
  {
   "cell_type": "code",
   "execution_count": 89,
   "metadata": {},
   "outputs": [],
   "source": [
    "# import plotly.express as px\n",
    "\n",
    "# fig = px.scatter_3d(df, x='x_coord', y='y_coord', z='z_coord', color='element_symbol')\n",
    "# fig.update_traces(marker_size = 4)\n",
    "\n",
    "# fig.show()"
   ]
  },
  {
   "cell_type": "markdown",
   "metadata": {},
   "source": [
    "# random tests"
   ]
  }
 ],
 "metadata": {
  "kernelspec": {
   "display_name": "Python 3",
   "language": "python",
   "name": "python3"
  },
  "language_info": {
   "codemirror_mode": {
    "name": "ipython",
    "version": 3
   },
   "file_extension": ".py",
   "mimetype": "text/x-python",
   "name": "python",
   "nbconvert_exporter": "python",
   "pygments_lexer": "ipython3",
   "version": "3.10.16"
  }
 },
 "nbformat": 4,
 "nbformat_minor": 2
}
